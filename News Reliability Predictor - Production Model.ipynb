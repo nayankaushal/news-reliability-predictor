{
 "cells": [
  {
   "cell_type": "code",
   "execution_count": 1,
   "id": "859d344e",
   "metadata": {},
   "outputs": [],
   "source": [
    "%matplotlib inline\n",
    "import matplotlib.pyplot as plt\n",
    "import csv\n",
    "from textblob import TextBlob\n",
    "import textblob\n",
    "import pandas as pd\n",
    "import sklearn\n",
    "import _pickle as cPickle\n",
    "import numpy as np\n",
    "import seaborn as sns\n",
    "from nltk.util import ngrams\n",
    "from nltk import word_tokenize\n",
    "from collections import Counter\n",
    "from sklearn.feature_extraction.text import CountVectorizer, TfidfTransformer\n",
    "from sklearn.naive_bayes import MultinomialNB\n",
    "from sklearn.svm import SVC, LinearSVC\n",
    "from sklearn.metrics import classification_report, f1_score, accuracy_score, confusion_matrix\n",
    "from sklearn.pipeline import Pipeline\n",
    "from sklearn.model_selection import GridSearchCV\n",
    "from sklearn.model_selection import StratifiedKFold, cross_val_score, train_test_split \n",
    "from sklearn.tree import DecisionTreeClassifier\n",
    "from sklearn.model_selection import learning_curve"
   ]
  },
  {
   "cell_type": "code",
   "execution_count": 2,
   "id": "38ffc3a2",
   "metadata": {},
   "outputs": [],
   "source": [
    "def split_into_tokens(message):\n",
    "    return TextBlob(message).words\n",
    "\n",
    "def split_into_lemmas(message):\n",
    "    message = message.lower()\n",
    "    words = TextBlob(message).words\n",
    "    # for each word, take its \"base form\" = lemma \n",
    "    return [word.lemma for word in words]"
   ]
  },
  {
   "cell_type": "code",
   "execution_count": 3,
   "id": "ad44b150",
   "metadata": {},
   "outputs": [],
   "source": [
    "svm_detector_reloaded = cPickle.load(open('sms_news_reliability_detector.pkl', 'rb'))"
   ]
  },
  {
   "cell_type": "code",
   "execution_count": 4,
   "id": "535458bb",
   "metadata": {},
   "outputs": [],
   "source": [
    "test = pd.read_csv('test.csv')"
   ]
  },
  {
   "cell_type": "code",
   "execution_count": 5,
   "id": "1e07e816",
   "metadata": {},
   "outputs": [],
   "source": [
    "test.loc[test['text'].isna(), 'text'] = 'text not available'"
   ]
  },
  {
   "cell_type": "code",
   "execution_count": 6,
   "id": "6d0d3952",
   "metadata": {},
   "outputs": [],
   "source": [
    "#predicting labels for test data\n",
    "test_predictions = svm_detector_reloaded.predict(test['text'])"
   ]
  },
  {
   "cell_type": "code",
   "execution_count": null,
   "id": "87450cb5",
   "metadata": {},
   "outputs": [],
   "source": [
    "test['label'] = test_predictions"
   ]
  },
  {
   "cell_type": "code",
   "execution_count": null,
   "id": "45b9f8bd",
   "metadata": {},
   "outputs": [],
   "source": [
    "test[['id', 'label']].set_index('id').to_csv('submit.csv')"
   ]
  }
 ],
 "metadata": {
  "kernelspec": {
   "display_name": "Python 3",
   "language": "python",
   "name": "python3"
  },
  "language_info": {
   "codemirror_mode": {
    "name": "ipython",
    "version": 3
   },
   "file_extension": ".py",
   "mimetype": "text/x-python",
   "name": "python",
   "nbconvert_exporter": "python",
   "pygments_lexer": "ipython3",
   "version": "3.8.8"
  }
 },
 "nbformat": 4,
 "nbformat_minor": 5
}
