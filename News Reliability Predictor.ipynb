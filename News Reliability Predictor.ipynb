{
 "cells": [
  {
   "cell_type": "markdown",
   "id": "03c912c0",
   "metadata": {},
   "source": [
    "# News Reliability Predictor\n",
    "\n",
    "2 years ago, a picture of my family member was taken from her social media account and used by a company to advertise their product, all without her consent. Through the investigation of this matter, I realized two critical things – first, that there is a severe lack of privacy and ethics in the social media domain and second, how misinformation and disinformation heavily restrict consumers from getting to reliable information, based on which they form an opinion. Although this incident piqued my interest because it happened to someone I know closely, it made me think deeply about the scale and impact of such incidents on hindering the advocation of social justice efforts. That is why, I aim to build a **\"News Reliability Predictor\"** which analyses the title, author name, and text of a news article and predicts if the article is a reliable or unreliable source of information."
   ]
  },
  {
   "cell_type": "markdown",
   "id": "afbd3ecf",
   "metadata": {},
   "source": [
    "## Introduction\n",
    "\n",
    "This notebook analyses the data containing components of 20,000+ news articles and predicts if each of the articles is reliable or unreliable. The data is obtained from a Kaggle competition called [Fake News](https://www.kaggle.com/c/fake-news/data). It consists of:\n",
    "\n",
    "1. train.csv - The data to be used for analyses and building an accurate model\n",
    "2. test.csv - The data whose labels are unknown to us. The predictions are submitted to the kaggle forum, where the accuracy of our predictions are displayed. This gives an estimate of how well our model behaves on unseen data\n",
    "\n",
    "Let's begin!"
   ]
  },
  {
   "cell_type": "markdown",
   "id": "12539fc7",
   "metadata": {},
   "source": [
    "## Data Input"
   ]
  },
  {
   "cell_type": "code",
   "execution_count": 10,
   "id": "009a561a",
   "metadata": {},
   "outputs": [],
   "source": [
    "#importing relevant libraries for the analysis\n",
    "%matplotlib inline\n",
    "import matplotlib.pyplot as plt\n",
    "import csv\n",
    "from textblob import TextBlob\n",
    "import textblob\n",
    "import pandas as pd\n",
    "import sklearn\n",
    "import _pickle as cPickle\n",
    "import numpy as np\n",
    "import seaborn as sns\n",
    "from nltk.util import ngrams\n",
    "from nltk import word_tokenize\n",
    "from collections import Counter\n",
    "from sklearn.feature_extraction.text import CountVectorizer, TfidfTransformer\n",
    "from sklearn.naive_bayes import MultinomialNB\n",
    "from sklearn.svm import SVC, LinearSVC\n",
    "from sklearn.metrics import classification_report, f1_score, accuracy_score, confusion_matrix\n",
    "from sklearn.pipeline import Pipeline\n",
    "from sklearn.model_selection import GridSearchCV\n",
    "from sklearn.model_selection import StratifiedKFold, cross_val_score, train_test_split \n",
    "from sklearn.tree import DecisionTreeClassifier\n",
    "from sklearn.model_selection import learning_curve"
   ]
  },
  {
   "cell_type": "code",
   "execution_count": 11,
   "id": "0567d58a",
   "metadata": {},
   "outputs": [],
   "source": [
    "#reading the train.csv file\n",
    "df = pd.read_csv('train.csv')"
   ]
  },
  {
   "cell_type": "code",
   "execution_count": 6,
   "id": "c3a0870d",
   "metadata": {},
   "outputs": [
    {
     "data": {
      "text/html": [
       "<div>\n",
       "<style scoped>\n",
       "    .dataframe tbody tr th:only-of-type {\n",
       "        vertical-align: middle;\n",
       "    }\n",
       "\n",
       "    .dataframe tbody tr th {\n",
       "        vertical-align: top;\n",
       "    }\n",
       "\n",
       "    .dataframe thead th {\n",
       "        text-align: right;\n",
       "    }\n",
       "</style>\n",
       "<table border=\"1\" class=\"dataframe\">\n",
       "  <thead>\n",
       "    <tr style=\"text-align: right;\">\n",
       "      <th></th>\n",
       "      <th>id</th>\n",
       "      <th>title</th>\n",
       "      <th>author</th>\n",
       "      <th>text</th>\n",
       "      <th>label</th>\n",
       "    </tr>\n",
       "  </thead>\n",
       "  <tbody>\n",
       "    <tr>\n",
       "      <th>0</th>\n",
       "      <td>0</td>\n",
       "      <td>House Dem Aide: We Didn’t Even See Comey’s Let...</td>\n",
       "      <td>Darrell Lucus</td>\n",
       "      <td>House Dem Aide: We Didn’t Even See Comey’s Let...</td>\n",
       "      <td>1</td>\n",
       "    </tr>\n",
       "    <tr>\n",
       "      <th>1</th>\n",
       "      <td>1</td>\n",
       "      <td>FLYNN: Hillary Clinton, Big Woman on Campus - ...</td>\n",
       "      <td>Daniel J. Flynn</td>\n",
       "      <td>Ever get the feeling your life circles the rou...</td>\n",
       "      <td>0</td>\n",
       "    </tr>\n",
       "    <tr>\n",
       "      <th>2</th>\n",
       "      <td>2</td>\n",
       "      <td>Why the Truth Might Get You Fired</td>\n",
       "      <td>Consortiumnews.com</td>\n",
       "      <td>Why the Truth Might Get You Fired October 29, ...</td>\n",
       "      <td>1</td>\n",
       "    </tr>\n",
       "    <tr>\n",
       "      <th>3</th>\n",
       "      <td>3</td>\n",
       "      <td>15 Civilians Killed In Single US Airstrike Hav...</td>\n",
       "      <td>Jessica Purkiss</td>\n",
       "      <td>Videos 15 Civilians Killed In Single US Airstr...</td>\n",
       "      <td>1</td>\n",
       "    </tr>\n",
       "    <tr>\n",
       "      <th>4</th>\n",
       "      <td>4</td>\n",
       "      <td>Iranian woman jailed for fictional unpublished...</td>\n",
       "      <td>Howard Portnoy</td>\n",
       "      <td>Print \\nAn Iranian woman has been sentenced to...</td>\n",
       "      <td>1</td>\n",
       "    </tr>\n",
       "  </tbody>\n",
       "</table>\n",
       "</div>"
      ],
      "text/plain": [
       "   id                                              title              author  \\\n",
       "0   0  House Dem Aide: We Didn’t Even See Comey’s Let...       Darrell Lucus   \n",
       "1   1  FLYNN: Hillary Clinton, Big Woman on Campus - ...     Daniel J. Flynn   \n",
       "2   2                  Why the Truth Might Get You Fired  Consortiumnews.com   \n",
       "3   3  15 Civilians Killed In Single US Airstrike Hav...     Jessica Purkiss   \n",
       "4   4  Iranian woman jailed for fictional unpublished...      Howard Portnoy   \n",
       "\n",
       "                                                text  label  \n",
       "0  House Dem Aide: We Didn’t Even See Comey’s Let...      1  \n",
       "1  Ever get the feeling your life circles the rou...      0  \n",
       "2  Why the Truth Might Get You Fired October 29, ...      1  \n",
       "3  Videos 15 Civilians Killed In Single US Airstr...      1  \n",
       "4  Print \\nAn Iranian woman has been sentenced to...      1  "
      ]
     },
     "execution_count": 6,
     "metadata": {},
     "output_type": "execute_result"
    }
   ],
   "source": [
    "#displaying the first 5 rows of the df\n",
    "df.head()"
   ]
  },
  {
   "cell_type": "code",
   "execution_count": 4,
   "id": "5e556c7a",
   "metadata": {},
   "outputs": [
    {
     "data": {
      "text/html": [
       "<div>\n",
       "<style scoped>\n",
       "    .dataframe tbody tr th:only-of-type {\n",
       "        vertical-align: middle;\n",
       "    }\n",
       "\n",
       "    .dataframe tbody tr th {\n",
       "        vertical-align: top;\n",
       "    }\n",
       "\n",
       "    .dataframe thead th {\n",
       "        text-align: right;\n",
       "    }\n",
       "</style>\n",
       "<table border=\"1\" class=\"dataframe\">\n",
       "  <thead>\n",
       "    <tr style=\"text-align: right;\">\n",
       "      <th></th>\n",
       "      <th>id</th>\n",
       "      <th>label</th>\n",
       "    </tr>\n",
       "  </thead>\n",
       "  <tbody>\n",
       "    <tr>\n",
       "      <th>count</th>\n",
       "      <td>20800.000000</td>\n",
       "      <td>20800.000000</td>\n",
       "    </tr>\n",
       "    <tr>\n",
       "      <th>mean</th>\n",
       "      <td>10399.500000</td>\n",
       "      <td>0.500625</td>\n",
       "    </tr>\n",
       "    <tr>\n",
       "      <th>std</th>\n",
       "      <td>6004.587135</td>\n",
       "      <td>0.500012</td>\n",
       "    </tr>\n",
       "    <tr>\n",
       "      <th>min</th>\n",
       "      <td>0.000000</td>\n",
       "      <td>0.000000</td>\n",
       "    </tr>\n",
       "    <tr>\n",
       "      <th>25%</th>\n",
       "      <td>5199.750000</td>\n",
       "      <td>0.000000</td>\n",
       "    </tr>\n",
       "    <tr>\n",
       "      <th>50%</th>\n",
       "      <td>10399.500000</td>\n",
       "      <td>1.000000</td>\n",
       "    </tr>\n",
       "    <tr>\n",
       "      <th>75%</th>\n",
       "      <td>15599.250000</td>\n",
       "      <td>1.000000</td>\n",
       "    </tr>\n",
       "    <tr>\n",
       "      <th>max</th>\n",
       "      <td>20799.000000</td>\n",
       "      <td>1.000000</td>\n",
       "    </tr>\n",
       "  </tbody>\n",
       "</table>\n",
       "</div>"
      ],
      "text/plain": [
       "                 id         label\n",
       "count  20800.000000  20800.000000\n",
       "mean   10399.500000      0.500625\n",
       "std     6004.587135      0.500012\n",
       "min        0.000000      0.000000\n",
       "25%     5199.750000      0.000000\n",
       "50%    10399.500000      1.000000\n",
       "75%    15599.250000      1.000000\n",
       "max    20799.000000      1.000000"
      ]
     },
     "execution_count": 4,
     "metadata": {},
     "output_type": "execute_result"
    }
   ],
   "source": [
    "#describing the numeric data\n",
    "df.describe()"
   ]
  },
  {
   "cell_type": "code",
   "execution_count": 5,
   "id": "d940df3c",
   "metadata": {},
   "outputs": [
    {
     "data": {
      "text/plain": [
       "id           0\n",
       "title      558\n",
       "author    1957\n",
       "text        39\n",
       "label        0\n",
       "dtype: int64"
      ]
     },
     "execution_count": 5,
     "metadata": {},
     "output_type": "execute_result"
    }
   ],
   "source": [
    "#Checking for the number of null or missing values in the data\n",
    "df.isna().sum()"
   ]
  },
  {
   "cell_type": "markdown",
   "id": "be71bbf1",
   "metadata": {},
   "source": [
    "It can be observed that:\n",
    "\n",
    "1. There are two numeric columns, namely - id and label.\n",
    "2. There are quite a lot of missing values in the data which will require removal of rows, or imputations of data.\n",
    "\n",
    "Furthermore, we can define the columns of the dataframe as follows:\n",
    "\n",
    "1. id: unique id for a news article\n",
    "2. title: the title of a news article\n",
    "3. author: author of the news article\n",
    "4. text: the text of the article; could be incomplete\n",
    "5. label: a label that marks the article as potentially unreliable\n",
    "        1: unreliable\n",
    "        0: reliable\n",
    "\n",
    "Source: [Fake News](https://www.kaggle.com/c/fake-news/data)"
   ]
  },
  {
   "cell_type": "markdown",
   "id": "3d409d74",
   "metadata": {},
   "source": [
    "## Exploratory Data Analysis"
   ]
  },
  {
   "cell_type": "code",
   "execution_count": 6,
   "id": "4c85c3fa",
   "metadata": {},
   "outputs": [
    {
     "data": {
      "text/html": [
       "<div>\n",
       "<style scoped>\n",
       "    .dataframe tbody tr th:only-of-type {\n",
       "        vertical-align: middle;\n",
       "    }\n",
       "\n",
       "    .dataframe tbody tr th {\n",
       "        vertical-align: top;\n",
       "    }\n",
       "\n",
       "    .dataframe thead th {\n",
       "        text-align: right;\n",
       "    }\n",
       "</style>\n",
       "<table border=\"1\" class=\"dataframe\">\n",
       "  <thead>\n",
       "    <tr style=\"text-align: right;\">\n",
       "      <th></th>\n",
       "      <th></th>\n",
       "      <th>id</th>\n",
       "      <th>title</th>\n",
       "      <th>text</th>\n",
       "    </tr>\n",
       "    <tr>\n",
       "      <th>author</th>\n",
       "      <th>label</th>\n",
       "      <th></th>\n",
       "      <th></th>\n",
       "      <th></th>\n",
       "    </tr>\n",
       "  </thead>\n",
       "  <tbody>\n",
       "    <tr>\n",
       "      <th># 1 NWO Hatr</th>\n",
       "      <th>1</th>\n",
       "      <td>17</td>\n",
       "      <td>17</td>\n",
       "      <td>17</td>\n",
       "    </tr>\n",
       "    <tr>\n",
       "      <th>-NO AUTHOR-</th>\n",
       "      <th>1</th>\n",
       "      <td>54</td>\n",
       "      <td>54</td>\n",
       "      <td>54</td>\n",
       "    </tr>\n",
       "    <tr>\n",
       "      <th>10 Habits That Will Make Your Life Easier &amp;amp; More Peaceful - Wellness Solutions</th>\n",
       "      <th>1</th>\n",
       "      <td>1</td>\n",
       "      <td>1</td>\n",
       "      <td>1</td>\n",
       "    </tr>\n",
       "    <tr>\n",
       "      <th>10 More Beautiful Images That Remind You We Still Live In A Beautiful World, With Beautiful People - Upside Down Media</th>\n",
       "      <th>1</th>\n",
       "      <td>1</td>\n",
       "      <td>1</td>\n",
       "      <td>1</td>\n",
       "    </tr>\n",
       "    <tr>\n",
       "      <th>10 Movies That Could Change Your Understanding Of Life - Upside Down Media</th>\n",
       "      <th>1</th>\n",
       "      <td>1</td>\n",
       "      <td>1</td>\n",
       "      <td>1</td>\n",
       "    </tr>\n",
       "    <tr>\n",
       "      <th>10 Nutritious Foods That Help Reduce Asthma Attacks &amp;amp; Boost Your Health - Health Alternative Solutions</th>\n",
       "      <th>1</th>\n",
       "      <td>1</td>\n",
       "      <td>1</td>\n",
       "      <td>1</td>\n",
       "    </tr>\n",
       "    <tr>\n",
       "      <th>10 Presidents &amp;amp; Politicians Who Told Us That A “Secret Government” Controls The World &amp;amp; What They Said - Upside Down Media</th>\n",
       "      <th>1</th>\n",
       "      <td>1</td>\n",
       "      <td>1</td>\n",
       "      <td>1</td>\n",
       "    </tr>\n",
       "    <tr>\n",
       "      <th>10 Shocking Facts About Society That We Absurdly Accept As Normal – Digital Flow</th>\n",
       "      <th>1</th>\n",
       "      <td>1</td>\n",
       "      <td>1</td>\n",
       "      <td>1</td>\n",
       "    </tr>\n",
       "    <tr>\n",
       "      <th>11 Things To Let Go Of Before The New Year</th>\n",
       "      <th>1</th>\n",
       "      <td>1</td>\n",
       "      <td>1</td>\n",
       "      <td>1</td>\n",
       "    </tr>\n",
       "    <tr>\n",
       "      <th>11 Things To Let Go Of Before The New Year – Motivate3.com</th>\n",
       "      <th>1</th>\n",
       "      <td>1</td>\n",
       "      <td>1</td>\n",
       "      <td>1</td>\n",
       "    </tr>\n",
       "    <tr>\n",
       "      <th>1777</th>\n",
       "      <th>1</th>\n",
       "      <td>2</td>\n",
       "      <td>0</td>\n",
       "      <td>2</td>\n",
       "    </tr>\n",
       "    <tr>\n",
       "      <th>19 Documentaries That Will Have An Impact On Your Life | Coffs Coast Health Club</th>\n",
       "      <th>1</th>\n",
       "      <td>1</td>\n",
       "      <td>1</td>\n",
       "      <td>1</td>\n",
       "    </tr>\n",
       "    <tr>\n",
       "      <th>1980XLS</th>\n",
       "      <th>1</th>\n",
       "      <td>2</td>\n",
       "      <td>0</td>\n",
       "      <td>2</td>\n",
       "    </tr>\n",
       "    <tr>\n",
       "      <th>1A. The History and Future of Sleep:</th>\n",
       "      <th>1</th>\n",
       "      <td>1</td>\n",
       "      <td>1</td>\n",
       "      <td>1</td>\n",
       "    </tr>\n",
       "    <tr>\n",
       "      <th>2012newstart</th>\n",
       "      <th>1</th>\n",
       "      <td>1</td>\n",
       "      <td>1</td>\n",
       "      <td>1</td>\n",
       "    </tr>\n",
       "    <tr>\n",
       "      <th>2noxtnt</th>\n",
       "      <th>1</th>\n",
       "      <td>2</td>\n",
       "      <td>2</td>\n",
       "      <td>2</td>\n",
       "    </tr>\n",
       "    <tr>\n",
       "      <th>3 Easy Salad Recipes To Help Control Diabetes – Collective Evolution | intopurification</th>\n",
       "      <th>1</th>\n",
       "      <td>1</td>\n",
       "      <td>1</td>\n",
       "      <td>1</td>\n",
       "    </tr>\n",
       "    <tr>\n",
       "      <th>4 Goals For The Neomasculinity Movement During Trump’s First Term</th>\n",
       "      <th>1</th>\n",
       "      <td>1</td>\n",
       "      <td>1</td>\n",
       "      <td>1</td>\n",
       "    </tr>\n",
       "    <tr>\n",
       "      <th>4 of the Best Kinds of Milk That Aren’t Dairy – Collective Evolution | APG Editorial</th>\n",
       "      <th>1</th>\n",
       "      <td>1</td>\n",
       "      <td>1</td>\n",
       "      <td>1</td>\n",
       "    </tr>\n",
       "    <tr>\n",
       "      <th>5 Ways You Can Start Feeling Better About Yourself Right Now – Collective Evolution</th>\n",
       "      <th>1</th>\n",
       "      <td>1</td>\n",
       "      <td>1</td>\n",
       "      <td>1</td>\n",
       "    </tr>\n",
       "    <tr>\n",
       "      <th>500 Year Old Map Discovered Shatters The Official History Of The Human Race</th>\n",
       "      <th>1</th>\n",
       "      <td>1</td>\n",
       "      <td>1</td>\n",
       "      <td>1</td>\n",
       "    </tr>\n",
       "    <tr>\n",
       "      <th>6 Steps to Becoming the Best Leader Possible – Motivate3.com</th>\n",
       "      <th>1</th>\n",
       "      <td>1</td>\n",
       "      <td>1</td>\n",
       "      <td>1</td>\n",
       "    </tr>\n",
       "    <tr>\n",
       "      <th>7 Harsh Realities That Come With Taking Full Responsibility For Your Life – Motivate3.com</th>\n",
       "      <th>1</th>\n",
       "      <td>1</td>\n",
       "      <td>1</td>\n",
       "      <td>1</td>\n",
       "    </tr>\n",
       "    <tr>\n",
       "      <th>:ohemad: (UID 73271507)</th>\n",
       "      <th>1</th>\n",
       "      <td>1</td>\n",
       "      <td>1</td>\n",
       "      <td>1</td>\n",
       "    </tr>\n",
       "    <tr>\n",
       "      <th>A Jew (UID 73270427)</th>\n",
       "      <th>1</th>\n",
       "      <td>1</td>\n",
       "      <td>1</td>\n",
       "      <td>1</td>\n",
       "    </tr>\n",
       "    <tr>\n",
       "      <th>A. F. Branco</th>\n",
       "      <th>1</th>\n",
       "      <td>1</td>\n",
       "      <td>1</td>\n",
       "      <td>1</td>\n",
       "    </tr>\n",
       "    <tr>\n",
       "      <th>A. Griffee</th>\n",
       "      <th>1</th>\n",
       "      <td>1</td>\n",
       "      <td>1</td>\n",
       "      <td>1</td>\n",
       "    </tr>\n",
       "    <tr>\n",
       "      <th>A. Maren</th>\n",
       "      <th>1</th>\n",
       "      <td>6</td>\n",
       "      <td>0</td>\n",
       "      <td>6</td>\n",
       "    </tr>\n",
       "    <tr>\n",
       "      <th>A. O. Scott</th>\n",
       "      <th>0</th>\n",
       "      <td>13</td>\n",
       "      <td>13</td>\n",
       "      <td>13</td>\n",
       "    </tr>\n",
       "    <tr>\n",
       "      <th>A.D.H.D. NATION: HOW BIG PHARMA CREATED THE A.D.H.D. EPIDEMIC - Black Barth</th>\n",
       "      <th>1</th>\n",
       "      <td>1</td>\n",
       "      <td>1</td>\n",
       "      <td>1</td>\n",
       "    </tr>\n",
       "    <tr>\n",
       "      <th>A.O. Scott</th>\n",
       "      <th>0</th>\n",
       "      <td>1</td>\n",
       "      <td>1</td>\n",
       "      <td>1</td>\n",
       "    </tr>\n",
       "    <tr>\n",
       "      <th>A.O. Scott and Manohla Dargis</th>\n",
       "      <th>0</th>\n",
       "      <td>1</td>\n",
       "      <td>1</td>\n",
       "      <td>1</td>\n",
       "    </tr>\n",
       "    <tr>\n",
       "      <th>AAPI Rex</th>\n",
       "      <th>1</th>\n",
       "      <td>1</td>\n",
       "      <td>0</td>\n",
       "      <td>1</td>\n",
       "    </tr>\n",
       "    <tr>\n",
       "      <th>AARGH63</th>\n",
       "      <th>1</th>\n",
       "      <td>1</td>\n",
       "      <td>0</td>\n",
       "      <td>1</td>\n",
       "    </tr>\n",
       "    <tr>\n",
       "      <th>ACT I</th>\n",
       "      <th>1</th>\n",
       "      <td>1</td>\n",
       "      <td>0</td>\n",
       "      <td>1</td>\n",
       "    </tr>\n",
       "    <tr>\n",
       "      <th rowspan=\"2\" valign=\"top\">AFP</th>\n",
       "      <th>0</th>\n",
       "      <td>2</td>\n",
       "      <td>2</td>\n",
       "      <td>2</td>\n",
       "    </tr>\n",
       "    <tr>\n",
       "      <th>1</th>\n",
       "      <td>1</td>\n",
       "      <td>1</td>\n",
       "      <td>1</td>\n",
       "    </tr>\n",
       "    <tr>\n",
       "      <th>AFRICA-NEWS</th>\n",
       "      <th>1</th>\n",
       "      <td>1</td>\n",
       "      <td>1</td>\n",
       "      <td>1</td>\n",
       "    </tr>\n",
       "    <tr>\n",
       "      <th>AP</th>\n",
       "      <th>0</th>\n",
       "      <td>11</td>\n",
       "      <td>11</td>\n",
       "      <td>11</td>\n",
       "    </tr>\n",
       "    <tr>\n",
       "      <th>AR Staff</th>\n",
       "      <th>1</th>\n",
       "      <td>1</td>\n",
       "      <td>1</td>\n",
       "      <td>1</td>\n",
       "    </tr>\n",
       "    <tr>\n",
       "      <th>AUTUMN</th>\n",
       "      <th>1</th>\n",
       "      <td>1</td>\n",
       "      <td>1</td>\n",
       "      <td>1</td>\n",
       "    </tr>\n",
       "    <tr>\n",
       "      <th>AWR Hawkins</th>\n",
       "      <th>0</th>\n",
       "      <td>107</td>\n",
       "      <td>107</td>\n",
       "      <td>107</td>\n",
       "    </tr>\n",
       "    <tr>\n",
       "      <th>AZU</th>\n",
       "      <th>1</th>\n",
       "      <td>1</td>\n",
       "      <td>1</td>\n",
       "      <td>1</td>\n",
       "    </tr>\n",
       "    <tr>\n",
       "      <th>Aaron E. Carroll</th>\n",
       "      <th>0</th>\n",
       "      <td>10</td>\n",
       "      <td>10</td>\n",
       "      <td>10</td>\n",
       "    </tr>\n",
       "    <tr>\n",
       "      <th>Aaron E. Carroll and Austin Frakt</th>\n",
       "      <th>0</th>\n",
       "      <td>1</td>\n",
       "      <td>1</td>\n",
       "      <td>1</td>\n",
       "    </tr>\n",
       "    <tr>\n",
       "      <th>Aaron Kesel</th>\n",
       "      <th>1</th>\n",
       "      <td>25</td>\n",
       "      <td>25</td>\n",
       "      <td>25</td>\n",
       "    </tr>\n",
       "    <tr>\n",
       "      <th>Aaron Klein</th>\n",
       "      <th>0</th>\n",
       "      <td>54</td>\n",
       "      <td>54</td>\n",
       "      <td>54</td>\n",
       "    </tr>\n",
       "    <tr>\n",
       "      <th>Aaron Klein and Ali Waked</th>\n",
       "      <th>0</th>\n",
       "      <td>10</td>\n",
       "      <td>10</td>\n",
       "      <td>10</td>\n",
       "    </tr>\n",
       "    <tr>\n",
       "      <th>Abby Ellin</th>\n",
       "      <th>0</th>\n",
       "      <td>2</td>\n",
       "      <td>2</td>\n",
       "      <td>2</td>\n",
       "    </tr>\n",
       "    <tr>\n",
       "      <th>Abby Goodnough</th>\n",
       "      <th>0</th>\n",
       "      <td>5</td>\n",
       "      <td>5</td>\n",
       "      <td>5</td>\n",
       "    </tr>\n",
       "  </tbody>\n",
       "</table>\n",
       "</div>"
      ],
      "text/plain": [
       "                                                           id  title  text\n",
       "author                                             label                  \n",
       "# 1 NWO Hatr                                       1       17     17    17\n",
       "-NO AUTHOR-                                        1       54     54    54\n",
       "10 Habits That Will Make Your Life Easier &amp;... 1        1      1     1\n",
       "10 More Beautiful Images That Remind You We Sti... 1        1      1     1\n",
       "10 Movies That Could Change Your Understanding ... 1        1      1     1\n",
       "10 Nutritious Foods That Help Reduce Asthma Att... 1        1      1     1\n",
       "10 Presidents &amp; Politicians Who Told Us Tha... 1        1      1     1\n",
       "10 Shocking Facts About Society That We Absurdl... 1        1      1     1\n",
       "11 Things To Let Go Of Before The New Year         1        1      1     1\n",
       "11 Things To Let Go Of Before The New Year – Mo... 1        1      1     1\n",
       "1777                                               1        2      0     2\n",
       "19 Documentaries That Will Have An Impact On Yo... 1        1      1     1\n",
       "1980XLS                                            1        2      0     2\n",
       "1A. The History and Future of Sleep:               1        1      1     1\n",
       "2012newstart                                       1        1      1     1\n",
       "2noxtnt                                            1        2      2     2\n",
       "3 Easy Salad Recipes To Help Control Diabetes –... 1        1      1     1\n",
       "4 Goals For The Neomasculinity Movement During ... 1        1      1     1\n",
       "4 of the Best Kinds of Milk That Aren’t Dairy –... 1        1      1     1\n",
       "5 Ways You Can Start Feeling Better About Yours... 1        1      1     1\n",
       "500 Year Old Map Discovered Shatters The Offici... 1        1      1     1\n",
       "6 Steps to Becoming the Best Leader Possible – ... 1        1      1     1\n",
       "7 Harsh Realities That Come With Taking Full Re... 1        1      1     1\n",
       ":ohemad: (UID 73271507)                            1        1      1     1\n",
       "A Jew (UID 73270427)                               1        1      1     1\n",
       "A. F. Branco                                       1        1      1     1\n",
       "A. Griffee                                         1        1      1     1\n",
       "A. Maren                                           1        6      0     6\n",
       "A. O. Scott                                        0       13     13    13\n",
       "A.D.H.D. NATION: HOW BIG PHARMA CREATED THE A.D... 1        1      1     1\n",
       "A.O. Scott                                         0        1      1     1\n",
       "A.O. Scott and Manohla Dargis                      0        1      1     1\n",
       "AAPI Rex                                           1        1      0     1\n",
       "AARGH63                                            1        1      0     1\n",
       "ACT I                                              1        1      0     1\n",
       "AFP                                                0        2      2     2\n",
       "                                                   1        1      1     1\n",
       "AFRICA-NEWS                                        1        1      1     1\n",
       "AP                                                 0       11     11    11\n",
       "AR Staff                                           1        1      1     1\n",
       "AUTUMN                                             1        1      1     1\n",
       "AWR Hawkins                                        0      107    107   107\n",
       "AZU                                                1        1      1     1\n",
       "Aaron E. Carroll                                   0       10     10    10\n",
       "Aaron E. Carroll and Austin Frakt                  0        1      1     1\n",
       "Aaron Kesel                                        1       25     25    25\n",
       "Aaron Klein                                        0       54     54    54\n",
       "Aaron Klein and Ali Waked                          0       10     10    10\n",
       "Abby Ellin                                         0        2      2     2\n",
       "Abby Goodnough                                     0        5      5     5"
      ]
     },
     "execution_count": 6,
     "metadata": {},
     "output_type": "execute_result"
    }
   ],
   "source": [
    "#are there any authors who only post fake news?\n",
    "df.groupby(['author', 'label']).count().head(50)"
   ]
  },
  {
   "cell_type": "code",
   "execution_count": 7,
   "id": "40c33de9",
   "metadata": {},
   "outputs": [
    {
     "data": {
      "text/plain": [
       "Text(0, 0.5, 'Frequency (%)')"
      ]
     },
     "execution_count": 7,
     "metadata": {},
     "output_type": "execute_result"
    },
    {
     "data": {
      "image/png": "[encoded data removed]",
      "text/plain": [
       "<Figure size 432x288 with 1 Axes>"
      ]
     },
     "metadata": {
      "needs_background": "light"
     },
     "output_type": "display_data"
    }
   ],
   "source": [
    "#label distribution\n",
    "(df['label'].value_counts(normalize = True)*100).plot(kind = 'bar')\n",
    "plt.title(\"Ditribution of Labels\")\n",
    "plt.xlabel(\"Label\")\n",
    "plt.ylabel(\"Frequency (%)\")"
   ]
  },
  {
   "cell_type": "markdown",
   "id": "3fec6690",
   "metadata": {},
   "source": [
    "## Data Cleaning"
   ]
  },
  {
   "cell_type": "code",
   "execution_count": 8,
   "id": "a1d387a1",
   "metadata": {},
   "outputs": [
    {
     "data": {
      "text/plain": [
       "id           0\n",
       "title      558\n",
       "author    1957\n",
       "text        39\n",
       "label        0\n",
       "dtype: int64"
      ]
     },
     "execution_count": 8,
     "metadata": {},
     "output_type": "execute_result"
    }
   ],
   "source": [
    "#identifying the missing values\n",
    "df.isna().sum()"
   ]
  },
  {
   "cell_type": "code",
   "execution_count": 9,
   "id": "caa78470",
   "metadata": {},
   "outputs": [],
   "source": [
    "#imputing missing author labels with \"-NO AUTHOR-\"\n",
    "df.loc[df['author'].isna(), 'author'] = \"-NO AUTHOR-\""
   ]
  },
  {
   "cell_type": "code",
   "execution_count": 10,
   "id": "d5c7d7e2",
   "metadata": {},
   "outputs": [
    {
     "data": {
      "text/plain": [
       "0"
      ]
     },
     "execution_count": 10,
     "metadata": {},
     "output_type": "execute_result"
    }
   ],
   "source": [
    "#verification for missing values in author\n",
    "df['author'].isna().sum()"
   ]
  },
  {
   "cell_type": "code",
   "execution_count": 11,
   "id": "6303aca6",
   "metadata": {},
   "outputs": [
    {
     "data": {
      "text/plain": [
       "Get Ready For Civil Unrest: Survey Finds That Most Americans Are Concerned About Election Violence    5\n",
       "The Dark Agenda Behind Globalism And Open Borders                                                     5\n",
       "What to Cook This Week - The New York Times                                                           4\n",
       "“If Trump Loses, I’m Grabbing My Musket”: Former Congressman Ready to Go Full Revolution              4\n",
       "The U.S. National Bird Is Now a Drone                                                                 4\n",
       "                                                                                                     ..\n",
       "One Treaty Could Change the Fight to Stop the Dakota Access Pipeline                                  1\n",
       "Scott Pruitt, Trump’s E.P.A. Pick, Backed Industry Donors Over Regulators - The New York Times        1\n",
       "Can the G.O.P. Senate Majority Survive Donald Trump? - The New York Times                             1\n",
       "EU Gave Notre Dame Hammer Attack Jihadi Award For Writing Pro-Immigration Articles in Sweden          1\n",
       "Protesters Disturb Ryan Lochte’s Debut on ‘Dancing With the Stars’ - The New York Times               1\n",
       "Name: title, Length: 19803, dtype: int64"
      ]
     },
     "execution_count": 11,
     "metadata": {},
     "output_type": "execute_result"
    }
   ],
   "source": [
    "#understanding distrubtion of title\n",
    "df['title'].value_counts()"
   ]
  },
  {
   "cell_type": "code",
   "execution_count": 12,
   "id": "82a81381",
   "metadata": {
    "scrolled": false
   },
   "outputs": [
    {
     "data": {
      "text/html": [
       "<div>\n",
       "<style scoped>\n",
       "    .dataframe tbody tr th:only-of-type {\n",
       "        vertical-align: middle;\n",
       "    }\n",
       "\n",
       "    .dataframe tbody tr th {\n",
       "        vertical-align: top;\n",
       "    }\n",
       "\n",
       "    .dataframe thead th {\n",
       "        text-align: right;\n",
       "    }\n",
       "</style>\n",
       "<table border=\"1\" class=\"dataframe\">\n",
       "  <thead>\n",
       "    <tr style=\"text-align: right;\">\n",
       "      <th></th>\n",
       "      <th>id</th>\n",
       "      <th>title</th>\n",
       "      <th>author</th>\n",
       "      <th>text</th>\n",
       "      <th>label</th>\n",
       "    </tr>\n",
       "  </thead>\n",
       "  <tbody>\n",
       "    <tr>\n",
       "      <th>53</th>\n",
       "      <td>53</td>\n",
       "      <td>NaN</td>\n",
       "      <td>Dairy✓ᵀᴿᵁᴹᴾ</td>\n",
       "      <td>Sounds like he has our president pegged. What ...</td>\n",
       "      <td>1</td>\n",
       "    </tr>\n",
       "    <tr>\n",
       "      <th>120</th>\n",
       "      <td>120</td>\n",
       "      <td>NaN</td>\n",
       "      <td>Anonymous</td>\n",
       "      <td>Same people all the time , i dont know how you...</td>\n",
       "      <td>1</td>\n",
       "    </tr>\n",
       "    <tr>\n",
       "      <th>124</th>\n",
       "      <td>124</td>\n",
       "      <td>NaN</td>\n",
       "      <td>SeekSearchDestory</td>\n",
       "      <td>You know, outside of any morality arguments, i...</td>\n",
       "      <td>1</td>\n",
       "    </tr>\n",
       "    <tr>\n",
       "      <th>140</th>\n",
       "      <td>140</td>\n",
       "      <td>NaN</td>\n",
       "      <td>Anonymous</td>\n",
       "      <td>There is a lot more than meets the eye to this...</td>\n",
       "      <td>1</td>\n",
       "    </tr>\n",
       "    <tr>\n",
       "      <th>196</th>\n",
       "      <td>196</td>\n",
       "      <td>NaN</td>\n",
       "      <td>Raffie</td>\n",
       "      <td>They got the heater turned up on high.</td>\n",
       "      <td>1</td>\n",
       "    </tr>\n",
       "    <tr>\n",
       "      <th>...</th>\n",
       "      <td>...</td>\n",
       "      <td>...</td>\n",
       "      <td>...</td>\n",
       "      <td>...</td>\n",
       "      <td>...</td>\n",
       "    </tr>\n",
       "    <tr>\n",
       "      <th>20568</th>\n",
       "      <td>20568</td>\n",
       "      <td>NaN</td>\n",
       "      <td>Cathy Milne</td>\n",
       "      <td>Amusing comment Gary! “Those   week!” So, are ...</td>\n",
       "      <td>1</td>\n",
       "    </tr>\n",
       "    <tr>\n",
       "      <th>20627</th>\n",
       "      <td>20627</td>\n",
       "      <td>NaN</td>\n",
       "      <td>Ramona</td>\n",
       "      <td>No she doesn’t have more money than God, every...</td>\n",
       "      <td>1</td>\n",
       "    </tr>\n",
       "    <tr>\n",
       "      <th>20636</th>\n",
       "      <td>20636</td>\n",
       "      <td>NaN</td>\n",
       "      <td>Dave Lowery</td>\n",
       "      <td>Trump all the way!</td>\n",
       "      <td>1</td>\n",
       "    </tr>\n",
       "    <tr>\n",
       "      <th>20771</th>\n",
       "      <td>20771</td>\n",
       "      <td>NaN</td>\n",
       "      <td>Letsbereal</td>\n",
       "      <td>DYN's Statement on Last Week's Botnet Attack h...</td>\n",
       "      <td>1</td>\n",
       "    </tr>\n",
       "    <tr>\n",
       "      <th>20772</th>\n",
       "      <td>20772</td>\n",
       "      <td>NaN</td>\n",
       "      <td>beersession</td>\n",
       "      <td>Kinda reminds me of when Carter gave away the ...</td>\n",
       "      <td>1</td>\n",
       "    </tr>\n",
       "  </tbody>\n",
       "</table>\n",
       "<p>558 rows × 5 columns</p>\n",
       "</div>"
      ],
      "text/plain": [
       "          id title             author  \\\n",
       "53        53   NaN        Dairy✓ᵀᴿᵁᴹᴾ   \n",
       "120      120   NaN          Anonymous   \n",
       "124      124   NaN  SeekSearchDestory   \n",
       "140      140   NaN          Anonymous   \n",
       "196      196   NaN             Raffie   \n",
       "...      ...   ...                ...   \n",
       "20568  20568   NaN        Cathy Milne   \n",
       "20627  20627   NaN             Ramona   \n",
       "20636  20636   NaN        Dave Lowery   \n",
       "20771  20771   NaN         Letsbereal   \n",
       "20772  20772   NaN        beersession   \n",
       "\n",
       "                                                    text  label  \n",
       "53     Sounds like he has our president pegged. What ...      1  \n",
       "120    Same people all the time , i dont know how you...      1  \n",
       "124    You know, outside of any morality arguments, i...      1  \n",
       "140    There is a lot more than meets the eye to this...      1  \n",
       "196               They got the heater turned up on high.      1  \n",
       "...                                                  ...    ...  \n",
       "20568  Amusing comment Gary! “Those   week!” So, are ...      1  \n",
       "20627  No she doesn’t have more money than God, every...      1  \n",
       "20636                                 Trump all the way!      1  \n",
       "20771  DYN's Statement on Last Week's Botnet Attack h...      1  \n",
       "20772  Kinda reminds me of when Carter gave away the ...      1  \n",
       "\n",
       "[558 rows x 5 columns]"
      ]
     },
     "metadata": {},
     "output_type": "display_data"
    },
    {
     "data": {
      "text/html": [
       "<div>\n",
       "<style scoped>\n",
       "    .dataframe tbody tr th:only-of-type {\n",
       "        vertical-align: middle;\n",
       "    }\n",
       "\n",
       "    .dataframe tbody tr th {\n",
       "        vertical-align: top;\n",
       "    }\n",
       "\n",
       "    .dataframe thead th {\n",
       "        text-align: right;\n",
       "    }\n",
       "</style>\n",
       "<table border=\"1\" class=\"dataframe\">\n",
       "  <thead>\n",
       "    <tr style=\"text-align: right;\">\n",
       "      <th></th>\n",
       "      <th>id</th>\n",
       "      <th>title</th>\n",
       "      <th>author</th>\n",
       "      <th>text</th>\n",
       "      <th>label</th>\n",
       "    </tr>\n",
       "  </thead>\n",
       "  <tbody>\n",
       "    <tr>\n",
       "      <th>142</th>\n",
       "      <td>142</td>\n",
       "      <td>Gorafi Magazine : Entretien exclusif avec Bara...</td>\n",
       "      <td>-NO AUTHOR-</td>\n",
       "      <td>NaN</td>\n",
       "      <td>1</td>\n",
       "    </tr>\n",
       "    <tr>\n",
       "      <th>573</th>\n",
       "      <td>573</td>\n",
       "      <td>Le top des recherches Google passe en top des ...</td>\n",
       "      <td>-NO AUTHOR-</td>\n",
       "      <td>NaN</td>\n",
       "      <td>1</td>\n",
       "    </tr>\n",
       "    <tr>\n",
       "      <th>1200</th>\n",
       "      <td>1200</td>\n",
       "      <td>La Corée du Nord annonce avoir envoyé un missi...</td>\n",
       "      <td>-NO AUTHOR-</td>\n",
       "      <td>NaN</td>\n",
       "      <td>1</td>\n",
       "    </tr>\n",
       "    <tr>\n",
       "      <th>1911</th>\n",
       "      <td>1911</td>\n",
       "      <td>Grand-Prix du Brésil – Romain Grosjean obtient...</td>\n",
       "      <td>-NO AUTHOR-</td>\n",
       "      <td>NaN</td>\n",
       "      <td>1</td>\n",
       "    </tr>\n",
       "    <tr>\n",
       "      <th>2148</th>\n",
       "      <td>2148</td>\n",
       "      <td>Gorafi Magazine: Barack Obama « Je vous ai déj...</td>\n",
       "      <td>-NO AUTHOR-</td>\n",
       "      <td>NaN</td>\n",
       "      <td>1</td>\n",
       "    </tr>\n",
       "    <tr>\n",
       "      <th>2169</th>\n",
       "      <td>2169</td>\n",
       "      <td>#NDDL: Pour fêter l’autorisation des travaux, ...</td>\n",
       "      <td>-NO AUTHOR-</td>\n",
       "      <td>NaN</td>\n",
       "      <td>1</td>\n",
       "    </tr>\n",
       "    <tr>\n",
       "      <th>2793</th>\n",
       "      <td>2793</td>\n",
       "      <td>«Pourquoi je suis candidat à la présidentielle...</td>\n",
       "      <td>-NO AUTHOR-</td>\n",
       "      <td>NaN</td>\n",
       "      <td>1</td>\n",
       "    </tr>\n",
       "    <tr>\n",
       "      <th>3329</th>\n",
       "      <td>3329</td>\n",
       "      <td>GuinessBook : 100 millions d’Américains batten...</td>\n",
       "      <td>-NO AUTHOR-</td>\n",
       "      <td>NaN</td>\n",
       "      <td>1</td>\n",
       "    </tr>\n",
       "    <tr>\n",
       "      <th>3729</th>\n",
       "      <td>3729</td>\n",
       "      <td>Les Américains ne sont plus qu’à quelques heur...</td>\n",
       "      <td>-NO AUTHOR-</td>\n",
       "      <td>NaN</td>\n",
       "      <td>1</td>\n",
       "    </tr>\n",
       "    <tr>\n",
       "      <th>4288</th>\n",
       "      <td>4288</td>\n",
       "      <td>Hillary Clinton en 5 dates &gt;&gt; Le Gorafi</td>\n",
       "      <td>-NO AUTHOR-</td>\n",
       "      <td>NaN</td>\n",
       "      <td>1</td>\n",
       "    </tr>\n",
       "    <tr>\n",
       "      <th>4358</th>\n",
       "      <td>4358</td>\n",
       "      <td>Ne supportant plus l’ambiance de la campagne é...</td>\n",
       "      <td>-NO AUTHOR-</td>\n",
       "      <td>NaN</td>\n",
       "      <td>1</td>\n",
       "    </tr>\n",
       "    <tr>\n",
       "      <th>5717</th>\n",
       "      <td>5717</td>\n",
       "      <td>SPA : Enfermé depuis trois jours dans une cage...</td>\n",
       "      <td>-NO AUTHOR-</td>\n",
       "      <td>NaN</td>\n",
       "      <td>1</td>\n",
       "    </tr>\n",
       "    <tr>\n",
       "      <th>6215</th>\n",
       "      <td>6215</td>\n",
       "      <td>New-York – Le lâcher de confettis prévu à Time...</td>\n",
       "      <td>-NO AUTHOR-</td>\n",
       "      <td>NaN</td>\n",
       "      <td>1</td>\n",
       "    </tr>\n",
       "    <tr>\n",
       "      <th>6680</th>\n",
       "      <td>6680</td>\n",
       "      <td>Débat Primaire de la Droite : les Français pas...</td>\n",
       "      <td>-NO AUTHOR-</td>\n",
       "      <td>NaN</td>\n",
       "      <td>1</td>\n",
       "    </tr>\n",
       "    <tr>\n",
       "      <th>8649</th>\n",
       "      <td>8649</td>\n",
       "      <td>Donald Trump s’excuse pour toutes les minorité...</td>\n",
       "      <td>-NO AUTHOR-</td>\n",
       "      <td>NaN</td>\n",
       "      <td>1</td>\n",
       "    </tr>\n",
       "    <tr>\n",
       "      <th>8908</th>\n",
       "      <td>8908</td>\n",
       "      <td>“Notre batal a coulé” par l’homme qui fait des...</td>\n",
       "      <td>-NO AUTHOR-</td>\n",
       "      <td>NaN</td>\n",
       "      <td>1</td>\n",
       "    </tr>\n",
       "    <tr>\n",
       "      <th>8922</th>\n",
       "      <td>8922</td>\n",
       "      <td>La Trump Tower cambriolée – les voleurs seraie...</td>\n",
       "      <td>-NO AUTHOR-</td>\n",
       "      <td>NaN</td>\n",
       "      <td>1</td>\n",
       "    </tr>\n",
       "    <tr>\n",
       "      <th>9350</th>\n",
       "      <td>9350</td>\n",
       "      <td>La Russie a profité de l’élection américaine p...</td>\n",
       "      <td>-NO AUTHOR-</td>\n",
       "      <td>NaN</td>\n",
       "      <td>1</td>\n",
       "    </tr>\n",
       "    <tr>\n",
       "      <th>9446</th>\n",
       "      <td>9446</td>\n",
       "      <td>Trop essoufflé après avoir cherché ses affaire...</td>\n",
       "      <td>-NO AUTHOR-</td>\n",
       "      <td>NaN</td>\n",
       "      <td>1</td>\n",
       "    </tr>\n",
       "    <tr>\n",
       "      <th>9454</th>\n",
       "      <td>9454</td>\n",
       "      <td>Il saoule tout le monde avec son analyse polit...</td>\n",
       "      <td>-NO AUTHOR-</td>\n",
       "      <td>NaN</td>\n",
       "      <td>1</td>\n",
       "    </tr>\n",
       "    <tr>\n",
       "      <th>9524</th>\n",
       "      <td>9524</td>\n",
       "      <td>Elections US : les premières estimations donne...</td>\n",
       "      <td>-NO AUTHOR-</td>\n",
       "      <td>NaN</td>\n",
       "      <td>1</td>\n",
       "    </tr>\n",
       "    <tr>\n",
       "      <th>10466</th>\n",
       "      <td>10466</td>\n",
       "      <td>Sur Twitter, Donald Trump se félicite d’avoir ...</td>\n",
       "      <td>-NO AUTHOR-</td>\n",
       "      <td>NaN</td>\n",
       "      <td>1</td>\n",
       "    </tr>\n",
       "    <tr>\n",
       "      <th>10867</th>\n",
       "      <td>10867</td>\n",
       "      <td>Live Soirée présidentielle US 2016 &gt;&gt; Le Gorafi</td>\n",
       "      <td>-NO AUTHOR-</td>\n",
       "      <td>NaN</td>\n",
       "      <td>1</td>\n",
       "    </tr>\n",
       "    <tr>\n",
       "      <th>11450</th>\n",
       "      <td>11450</td>\n",
       "      <td>Vladimir Poutine est élu 45e Président des Eta...</td>\n",
       "      <td>-NO AUTHOR-</td>\n",
       "      <td>NaN</td>\n",
       "      <td>1</td>\n",
       "    </tr>\n",
       "    <tr>\n",
       "      <th>11486</th>\n",
       "      <td>11486</td>\n",
       "      <td>Pour booster les ventes, Dassault offre un por...</td>\n",
       "      <td>-NO AUTHOR-</td>\n",
       "      <td>NaN</td>\n",
       "      <td>1</td>\n",
       "    </tr>\n",
       "    <tr>\n",
       "      <th>12056</th>\n",
       "      <td>12056</td>\n",
       "      <td>Après le succès de « Mariés au premier regard ...</td>\n",
       "      <td>-NO AUTHOR-</td>\n",
       "      <td>NaN</td>\n",
       "      <td>1</td>\n",
       "    </tr>\n",
       "    <tr>\n",
       "      <th>12460</th>\n",
       "      <td>12460</td>\n",
       "      <td>La voyante lisait l’avenir dans les cartes ble...</td>\n",
       "      <td>-NO AUTHOR-</td>\n",
       "      <td>NaN</td>\n",
       "      <td>1</td>\n",
       "    </tr>\n",
       "    <tr>\n",
       "      <th>12835</th>\n",
       "      <td>12835</td>\n",
       "      <td>[Vidéo] Découvrez le Gorafi de l’Année 2017 &gt;&gt;...</td>\n",
       "      <td>-NO AUTHOR-</td>\n",
       "      <td>NaN</td>\n",
       "      <td>1</td>\n",
       "    </tr>\n",
       "    <tr>\n",
       "      <th>13020</th>\n",
       "      <td>13020</td>\n",
       "      <td>Horoscope du 21 novembre 2016 &gt;&gt; Le Gorafi</td>\n",
       "      <td>-NO AUTHOR-</td>\n",
       "      <td>NaN</td>\n",
       "      <td>1</td>\n",
       "    </tr>\n",
       "    <tr>\n",
       "      <th>13107</th>\n",
       "      <td>13107</td>\n",
       "      <td>Les gardes-frontières se mettent en alerte pou...</td>\n",
       "      <td>-NO AUTHOR-</td>\n",
       "      <td>NaN</td>\n",
       "      <td>1</td>\n",
       "    </tr>\n",
       "    <tr>\n",
       "      <th>13915</th>\n",
       "      <td>13915</td>\n",
       "      <td>Elle met en fuite un braqueur en lui jetant de...</td>\n",
       "      <td>-NO AUTHOR-</td>\n",
       "      <td>NaN</td>\n",
       "      <td>1</td>\n",
       "    </tr>\n",
       "    <tr>\n",
       "      <th>14499</th>\n",
       "      <td>14499</td>\n",
       "      <td>Primaire – François Fillon se désiste au profi...</td>\n",
       "      <td>-NO AUTHOR-</td>\n",
       "      <td>NaN</td>\n",
       "      <td>1</td>\n",
       "    </tr>\n",
       "    <tr>\n",
       "      <th>14933</th>\n",
       "      <td>14933</td>\n",
       "      <td>La sortie du dernier livre inédit du Gorafi éc...</td>\n",
       "      <td>-NO AUTHOR-</td>\n",
       "      <td>NaN</td>\n",
       "      <td>1</td>\n",
       "    </tr>\n",
       "    <tr>\n",
       "      <th>16126</th>\n",
       "      <td>16126</td>\n",
       "      <td>Vendée Globe – Un skipper fait demi-tour après...</td>\n",
       "      <td>-NO AUTHOR-</td>\n",
       "      <td>NaN</td>\n",
       "      <td>1</td>\n",
       "    </tr>\n",
       "    <tr>\n",
       "      <th>18479</th>\n",
       "      <td>18479</td>\n",
       "      <td>Il se fait cryogéniser dans l’espoir de voir u...</td>\n",
       "      <td>-NO AUTHOR-</td>\n",
       "      <td>NaN</td>\n",
       "      <td>1</td>\n",
       "    </tr>\n",
       "    <tr>\n",
       "      <th>18757</th>\n",
       "      <td>18757</td>\n",
       "      <td>Donald Trump en 5 dates &gt;&gt; Le Gorafi</td>\n",
       "      <td>-NO AUTHOR-</td>\n",
       "      <td>NaN</td>\n",
       "      <td>1</td>\n",
       "    </tr>\n",
       "    <tr>\n",
       "      <th>19157</th>\n",
       "      <td>19157</td>\n",
       "      <td>110% des Américains assurent qu’ils continuero...</td>\n",
       "      <td>-NO AUTHOR-</td>\n",
       "      <td>NaN</td>\n",
       "      <td>1</td>\n",
       "    </tr>\n",
       "    <tr>\n",
       "      <th>19227</th>\n",
       "      <td>19227</td>\n",
       "      <td>Des millions d’Américains recherchent massivem...</td>\n",
       "      <td>-NO AUTHOR-</td>\n",
       "      <td>NaN</td>\n",
       "      <td>1</td>\n",
       "    </tr>\n",
       "    <tr>\n",
       "      <th>19388</th>\n",
       "      <td>19388</td>\n",
       "      <td>Heureux et souriant, il a la chance de toujour...</td>\n",
       "      <td>-NO AUTHOR-</td>\n",
       "      <td>NaN</td>\n",
       "      <td>1</td>\n",
       "    </tr>\n",
       "  </tbody>\n",
       "</table>\n",
       "</div>"
      ],
      "text/plain": [
       "          id                                              title       author  \\\n",
       "142      142  Gorafi Magazine : Entretien exclusif avec Bara...  -NO AUTHOR-   \n",
       "573      573  Le top des recherches Google passe en top des ...  -NO AUTHOR-   \n",
       "1200    1200  La Corée du Nord annonce avoir envoyé un missi...  -NO AUTHOR-   \n",
       "1911    1911  Grand-Prix du Brésil – Romain Grosjean obtient...  -NO AUTHOR-   \n",
       "2148    2148  Gorafi Magazine: Barack Obama « Je vous ai déj...  -NO AUTHOR-   \n",
       "2169    2169  #NDDL: Pour fêter l’autorisation des travaux, ...  -NO AUTHOR-   \n",
       "2793    2793  «Pourquoi je suis candidat à la présidentielle...  -NO AUTHOR-   \n",
       "3329    3329  GuinessBook : 100 millions d’Américains batten...  -NO AUTHOR-   \n",
       "3729    3729  Les Américains ne sont plus qu’à quelques heur...  -NO AUTHOR-   \n",
       "4288    4288            Hillary Clinton en 5 dates >> Le Gorafi  -NO AUTHOR-   \n",
       "4358    4358  Ne supportant plus l’ambiance de la campagne é...  -NO AUTHOR-   \n",
       "5717    5717  SPA : Enfermé depuis trois jours dans une cage...  -NO AUTHOR-   \n",
       "6215    6215  New-York – Le lâcher de confettis prévu à Time...  -NO AUTHOR-   \n",
       "6680    6680  Débat Primaire de la Droite : les Français pas...  -NO AUTHOR-   \n",
       "8649    8649  Donald Trump s’excuse pour toutes les minorité...  -NO AUTHOR-   \n",
       "8908    8908  “Notre batal a coulé” par l’homme qui fait des...  -NO AUTHOR-   \n",
       "8922    8922  La Trump Tower cambriolée – les voleurs seraie...  -NO AUTHOR-   \n",
       "9350    9350  La Russie a profité de l’élection américaine p...  -NO AUTHOR-   \n",
       "9446    9446  Trop essoufflé après avoir cherché ses affaire...  -NO AUTHOR-   \n",
       "9454    9454  Il saoule tout le monde avec son analyse polit...  -NO AUTHOR-   \n",
       "9524    9524  Elections US : les premières estimations donne...  -NO AUTHOR-   \n",
       "10466  10466  Sur Twitter, Donald Trump se félicite d’avoir ...  -NO AUTHOR-   \n",
       "10867  10867    Live Soirée présidentielle US 2016 >> Le Gorafi  -NO AUTHOR-   \n",
       "11450  11450  Vladimir Poutine est élu 45e Président des Eta...  -NO AUTHOR-   \n",
       "11486  11486  Pour booster les ventes, Dassault offre un por...  -NO AUTHOR-   \n",
       "12056  12056  Après le succès de « Mariés au premier regard ...  -NO AUTHOR-   \n",
       "12460  12460  La voyante lisait l’avenir dans les cartes ble...  -NO AUTHOR-   \n",
       "12835  12835  [Vidéo] Découvrez le Gorafi de l’Année 2017 >>...  -NO AUTHOR-   \n",
       "13020  13020         Horoscope du 21 novembre 2016 >> Le Gorafi  -NO AUTHOR-   \n",
       "13107  13107  Les gardes-frontières se mettent en alerte pou...  -NO AUTHOR-   \n",
       "13915  13915  Elle met en fuite un braqueur en lui jetant de...  -NO AUTHOR-   \n",
       "14499  14499  Primaire – François Fillon se désiste au profi...  -NO AUTHOR-   \n",
       "14933  14933  La sortie du dernier livre inédit du Gorafi éc...  -NO AUTHOR-   \n",
       "16126  16126  Vendée Globe – Un skipper fait demi-tour après...  -NO AUTHOR-   \n",
       "18479  18479  Il se fait cryogéniser dans l’espoir de voir u...  -NO AUTHOR-   \n",
       "18757  18757               Donald Trump en 5 dates >> Le Gorafi  -NO AUTHOR-   \n",
       "19157  19157  110% des Américains assurent qu’ils continuero...  -NO AUTHOR-   \n",
       "19227  19227  Des millions d’Américains recherchent massivem...  -NO AUTHOR-   \n",
       "19388  19388  Heureux et souriant, il a la chance de toujour...  -NO AUTHOR-   \n",
       "\n",
       "      text  label  \n",
       "142    NaN      1  \n",
       "573    NaN      1  \n",
       "1200   NaN      1  \n",
       "1911   NaN      1  \n",
       "2148   NaN      1  \n",
       "2169   NaN      1  \n",
       "2793   NaN      1  \n",
       "3329   NaN      1  \n",
       "3729   NaN      1  \n",
       "4288   NaN      1  \n",
       "4358   NaN      1  \n",
       "5717   NaN      1  \n",
       "6215   NaN      1  \n",
       "6680   NaN      1  \n",
       "8649   NaN      1  \n",
       "8908   NaN      1  \n",
       "8922   NaN      1  \n",
       "9350   NaN      1  \n",
       "9446   NaN      1  \n",
       "9454   NaN      1  \n",
       "9524   NaN      1  \n",
       "10466  NaN      1  \n",
       "10867  NaN      1  \n",
       "11450  NaN      1  \n",
       "11486  NaN      1  \n",
       "12056  NaN      1  \n",
       "12460  NaN      1  \n",
       "12835  NaN      1  \n",
       "13020  NaN      1  \n",
       "13107  NaN      1  \n",
       "13915  NaN      1  \n",
       "14499  NaN      1  \n",
       "14933  NaN      1  \n",
       "16126  NaN      1  \n",
       "18479  NaN      1  \n",
       "18757  NaN      1  \n",
       "19157  NaN      1  \n",
       "19227  NaN      1  \n",
       "19388  NaN      1  "
      ]
     },
     "metadata": {},
     "output_type": "display_data"
    }
   ],
   "source": [
    "#checking if authors and text are missing together\n",
    "display(df[df['title'].isna()])\n",
    "display(df[df['text'].isna()])"
   ]
  },
  {
   "cell_type": "markdown",
   "id": "8370cf2f",
   "metadata": {},
   "source": [
    "In most cases where title is missing, the author and text is available.\n",
    "\n",
    "In most cases where text is missing, the author and title is available.\n",
    "\n",
    "Therefore, we choose to drop this data."
   ]
  },
  {
   "cell_type": "code",
   "execution_count": 13,
   "id": "caffa868",
   "metadata": {},
   "outputs": [],
   "source": [
    "#dropping rows without title or text\n",
    "df.dropna(inplace = True)"
   ]
  },
  {
   "cell_type": "code",
   "execution_count": 14,
   "id": "d90e2585",
   "metadata": {},
   "outputs": [
    {
     "data": {
      "text/plain": [
       "id        0\n",
       "title     0\n",
       "author    0\n",
       "text      0\n",
       "label     0\n",
       "dtype: int64"
      ]
     },
     "execution_count": 14,
     "metadata": {},
     "output_type": "execute_result"
    }
   ],
   "source": [
    "#verification for missing values\n",
    "df.isna().sum()"
   ]
  },
  {
   "cell_type": "code",
   "execution_count": 15,
   "id": "b94577e0",
   "metadata": {},
   "outputs": [],
   "source": [
    "#dropping id from the dataframe as it is irrelevant to the analysis\n",
    "df.drop(columns = 'id', inplace = True)"
   ]
  },
  {
   "cell_type": "code",
   "execution_count": 16,
   "id": "6d1da26b",
   "metadata": {},
   "outputs": [
    {
     "data": {
      "text/html": [
       "<div>\n",
       "<style scoped>\n",
       "    .dataframe tbody tr th:only-of-type {\n",
       "        vertical-align: middle;\n",
       "    }\n",
       "\n",
       "    .dataframe tbody tr th {\n",
       "        vertical-align: top;\n",
       "    }\n",
       "\n",
       "    .dataframe thead th {\n",
       "        text-align: right;\n",
       "    }\n",
       "</style>\n",
       "<table border=\"1\" class=\"dataframe\">\n",
       "  <thead>\n",
       "    <tr style=\"text-align: right;\">\n",
       "      <th></th>\n",
       "      <th>title</th>\n",
       "      <th>author</th>\n",
       "      <th>text</th>\n",
       "      <th>label</th>\n",
       "    </tr>\n",
       "  </thead>\n",
       "  <tbody>\n",
       "    <tr>\n",
       "      <th>0</th>\n",
       "      <td>House Dem Aide: We Didn’t Even See Comey’s Let...</td>\n",
       "      <td>Darrell Lucus</td>\n",
       "      <td>House Dem Aide: We Didn’t Even See Comey’s Let...</td>\n",
       "      <td>1</td>\n",
       "    </tr>\n",
       "    <tr>\n",
       "      <th>1</th>\n",
       "      <td>FLYNN: Hillary Clinton, Big Woman on Campus - ...</td>\n",
       "      <td>Daniel J. Flynn</td>\n",
       "      <td>Ever get the feeling your life circles the rou...</td>\n",
       "      <td>0</td>\n",
       "    </tr>\n",
       "    <tr>\n",
       "      <th>2</th>\n",
       "      <td>Why the Truth Might Get You Fired</td>\n",
       "      <td>Consortiumnews.com</td>\n",
       "      <td>Why the Truth Might Get You Fired October 29, ...</td>\n",
       "      <td>1</td>\n",
       "    </tr>\n",
       "    <tr>\n",
       "      <th>3</th>\n",
       "      <td>15 Civilians Killed In Single US Airstrike Hav...</td>\n",
       "      <td>Jessica Purkiss</td>\n",
       "      <td>Videos 15 Civilians Killed In Single US Airstr...</td>\n",
       "      <td>1</td>\n",
       "    </tr>\n",
       "    <tr>\n",
       "      <th>4</th>\n",
       "      <td>Iranian woman jailed for fictional unpublished...</td>\n",
       "      <td>Howard Portnoy</td>\n",
       "      <td>Print \\nAn Iranian woman has been sentenced to...</td>\n",
       "      <td>1</td>\n",
       "    </tr>\n",
       "  </tbody>\n",
       "</table>\n",
       "</div>"
      ],
      "text/plain": [
       "                                               title              author  \\\n",
       "0  House Dem Aide: We Didn’t Even See Comey’s Let...       Darrell Lucus   \n",
       "1  FLYNN: Hillary Clinton, Big Woman on Campus - ...     Daniel J. Flynn   \n",
       "2                  Why the Truth Might Get You Fired  Consortiumnews.com   \n",
       "3  15 Civilians Killed In Single US Airstrike Hav...     Jessica Purkiss   \n",
       "4  Iranian woman jailed for fictional unpublished...      Howard Portnoy   \n",
       "\n",
       "                                                text  label  \n",
       "0  House Dem Aide: We Didn’t Even See Comey’s Let...      1  \n",
       "1  Ever get the feeling your life circles the rou...      0  \n",
       "2  Why the Truth Might Get You Fired October 29, ...      1  \n",
       "3  Videos 15 Civilians Killed In Single US Airstr...      1  \n",
       "4  Print \\nAn Iranian woman has been sentenced to...      1  "
      ]
     },
     "execution_count": 16,
     "metadata": {},
     "output_type": "execute_result"
    }
   ],
   "source": [
    "#displaying the first 5 rows of the data\n",
    "df.head()"
   ]
  },
  {
   "cell_type": "markdown",
   "id": "597afc65",
   "metadata": {},
   "source": [
    "## Text Analysis"
   ]
  },
  {
   "cell_type": "markdown",
   "id": "4f09be80",
   "metadata": {},
   "source": [
    "Now, we begin the text analysis to understand if there are any specific words in the text which scream \"FAKE NEWS!!\""
   ]
  },
  {
   "cell_type": "code",
   "execution_count": 17,
   "id": "2d51f049",
   "metadata": {},
   "outputs": [
    {
     "name": "stderr",
     "output_type": "stream",
     "text": [
      "[nltk_data] Downloading package stopwords to\n",
      "[nltk_data]     /Users/nayankaushal/nltk_data...\n",
      "[nltk_data]   Package stopwords is already up-to-date!\n"
     ]
    },
    {
     "data": {
      "text/plain": [
       "True"
      ]
     },
     "execution_count": 17,
     "metadata": {},
     "output_type": "execute_result"
    }
   ],
   "source": [
    "#downloading stopwords\n",
    "import nltk\n",
    "from nltk.corpus import stopwords\n",
    "nltk.download('stopwords')"
   ]
  },
  {
   "cell_type": "code",
   "execution_count": 1,
   "id": "ea97c1ca",
   "metadata": {},
   "outputs": [],
   "source": [
    "#creating a function which returns a list containing the top ngrams of each row\n",
    "def top_ngrams(df, n = 1):\n",
    "    top_ngrams = []\n",
    "    for text in df[df['label'] == 1]['text'].head(1000):\n",
    "        #removing the stopwords\n",
    "        words = \" \".join([word for word in text.split(\" \") if (word.lower() not in set(stopwords.words('english'))) and (word.isalpha())])\n",
    "        #tokenizing the words\n",
    "        token = word_tokenize(words)\n",
    "        #taking the ngrams by specifying n value given by the user\n",
    "        n_grams = ngrams(token, n)\n",
    "        #getting the most common 3 words\n",
    "        for x in Counter(n_grams).most_common(3):\n",
    "            top_ngrams.append(x[0])\n",
    "    return top_ngrams"
   ]
  },
  {
   "cell_type": "code",
   "execution_count": 19,
   "id": "dcc15ab8",
   "metadata": {},
   "outputs": [],
   "source": [
    "#top unigrams\n",
    "top_unigrams = top_ngrams(df, 1)\n",
    "\n",
    "#top bigrams\n",
    "top_bigrams = top_ngrams(df, 2)"
   ]
  },
  {
   "cell_type": "code",
   "execution_count": 20,
   "id": "bd97babf",
   "metadata": {},
   "outputs": [
    {
     "data": {
      "text/plain": [
       "Text(0, 0.5, 'Number of occurences')"
      ]
     },
     "execution_count": 20,
     "metadata": {},
     "output_type": "execute_result"
    },
    {
     "data": {
      "image/png": "[encoded data removed]",
      "text/plain": [
       "<Figure size 432x288 with 1 Axes>"
      ]
     },
     "metadata": {
      "needs_background": "light"
     },
     "output_type": "display_data"
    }
   ],
   "source": [
    "#displaying the top 10 unigrams\n",
    "pd.DataFrame(top_unigrams, columns = [\"unigrams\"]).value_counts(sort = True).nlargest(10).plot(kind = 'bar')\n",
    "plt.title(\"Top 10 Unigrams\")\n",
    "plt.xlabel(\"Unigrams\")\n",
    "plt.ylabel(\"Number of occurences\")"
   ]
  },
  {
   "cell_type": "code",
   "execution_count": 21,
   "id": "fc1f707b",
   "metadata": {},
   "outputs": [
    {
     "data": {
      "text/plain": [
       "Text(0, 0.5, 'Number of occurences')"
      ]
     },
     "execution_count": 21,
     "metadata": {},
     "output_type": "execute_result"
    },
    {
     "data": {
      "image/png": "[encoded data removed]",
      "text/plain": [
       "<Figure size 432x288 with 1 Axes>"
      ]
     },
     "metadata": {
      "needs_background": "light"
     },
     "output_type": "display_data"
    }
   ],
   "source": [
    "#displaying the top 10 bigramas\n",
    "pd.DataFrame(top_bigrams, columns = [\"bigrams_1\", \"bigrams_2\"]).value_counts(sort = True).nlargest(10).plot(kind = 'bar')\n",
    "plt.title(\"Top 10 Bigrams\")\n",
    "plt.xlabel(\"Bigrams\")\n",
    "plt.ylabel(\"Number of occurences\")"
   ]
  },
  {
   "cell_type": "markdown",
   "id": "a2d5daf3",
   "metadata": {},
   "source": [
    "## Modeling - Naive Bayes"
   ]
  },
  {
   "cell_type": "code",
   "execution_count": 22,
   "id": "2ebb27cb",
   "metadata": {},
   "outputs": [],
   "source": [
    "#defining the function which splits the text into tokens\n",
    "def split_into_tokens(text):\n",
    "    return TextBlob(text).words"
   ]
  },
  {
   "cell_type": "code",
   "execution_count": 23,
   "id": "63c3a059",
   "metadata": {},
   "outputs": [],
   "source": [
    "#defines the function which splits the text into lemmas - performing lemmatization\n",
    "def split_into_lemmas(text):\n",
    "    text = text.lower()\n",
    "    words = TextBlob(text).words\n",
    "    # for each word, take its \"base form\" = lemma \n",
    "    return [word.lemma for word in words]"
   ]
  },
  {
   "cell_type": "markdown",
   "id": "ada953dc",
   "metadata": {},
   "source": [
    "#### Tinkering with parameters 1: Using df[\"text\"] as the predictor variable"
   ]
  },
  {
   "cell_type": "code",
   "execution_count": 24,
   "id": "4385a361",
   "metadata": {},
   "outputs": [
    {
     "name": "stdout",
     "output_type": "stream",
     "text": [
      "16162 4041 20203\n"
     ]
    }
   ],
   "source": [
    "#splitting the dataset into train-test\n",
    "msg_train, msg_test, label_train, label_test = train_test_split(df['text'], df['label'], test_size=0.2, shuffle = False)\n",
    "\n",
    "#printing the length of the split data\n",
    "print(len(msg_train), len(msg_test), len(msg_train) + len(msg_test))"
   ]
  },
  {
   "cell_type": "code",
   "execution_count": 25,
   "id": "d23aa77e",
   "metadata": {},
   "outputs": [],
   "source": [
    "#constructing a pipeline to \n",
    "#1. split the words and perform lemmatization\n",
    "#2. perform tfidf transformation\n",
    "#3. Run a Multinomial Naive Bayes model\n",
    "pipeline = Pipeline([\n",
    "    ('bow', CountVectorizer(analyzer=split_into_lemmas)),  # strings to token integer counts\n",
    "    ('tfidf', TfidfTransformer()),  # integer counts to weighted TF-IDF scores\n",
    "    ('classifier', MultinomialNB()),  # train on TF-IDF vectors w/ Naive Bayes classifier\n",
    "])"
   ]
  },
  {
   "cell_type": "code",
   "execution_count": 26,
   "id": "1fcd2c8d",
   "metadata": {},
   "outputs": [
    {
     "name": "stdout",
     "output_type": "stream",
     "text": [
      "CPU times: user 2min 40s, sys: 1.19 s, total: 2min 41s\n",
      "Wall time: 2min 42s\n",
      "Confusion Matrix : \n",
      "\n",
      "[[2049    3]\n",
      " [ 821 1168]]\n",
      "              precision    recall  f1-score   support\n",
      "\n",
      "           0       0.71      1.00      0.83      2052\n",
      "           1       1.00      0.59      0.74      1989\n",
      "\n",
      "    accuracy                           0.80      4041\n",
      "   macro avg       0.86      0.79      0.79      4041\n",
      "weighted avg       0.85      0.80      0.79      4041\n",
      "\n",
      "0.7960900767136847\n"
     ]
    }
   ],
   "source": [
    "#Predicting the test labels by fitting the train labels in the Naive Bayes model\n",
    "%time naive_bayes_1 = pipeline.fit(msg_train, label_train)\n",
    "print('Confusion Matrix : \\n')\n",
    "predictions = naive_bayes_1.predict(msg_test)\n",
    "\n",
    "#printing the confusion matrix, classification report, and test accuracy\n",
    "print(confusion_matrix(label_test, predictions))\n",
    "print(classification_report(label_test, predictions))\n",
    "print(accuracy_score(label_test, predictions))"
   ]
  },
  {
   "cell_type": "markdown",
   "id": "57f8116a",
   "metadata": {},
   "source": [
    "We obtain a test data accuracy fo 79.6%, which is good to start with. This means that 79.6% of the labels in the test data were correctly classified as reliable or unreliable - when using just the news text as predictor variable.\n",
    "\n",
    "In the next step, we will use the author and text variables as predictors because as we saw earlier, author name carries some weight in checking the reliability of the data"
   ]
  },
  {
   "cell_type": "markdown",
   "id": "6c1284ec",
   "metadata": {},
   "source": [
    "#### Tinkering with parameters 2: Using df[\"text\"] and df[\"author\"] as the predictor variables"
   ]
  },
  {
   "cell_type": "code",
   "execution_count": 27,
   "id": "57f5514a",
   "metadata": {},
   "outputs": [],
   "source": [
    "#combine author name with text\n",
    "df['text'] = df['author'] + \" \" + df['text']"
   ]
  },
  {
   "cell_type": "code",
   "execution_count": 28,
   "id": "5d2b74c4",
   "metadata": {},
   "outputs": [
    {
     "name": "stdout",
     "output_type": "stream",
     "text": [
      "16162 4041 20203\n"
     ]
    }
   ],
   "source": [
    "#splitting the dataset into train-test\n",
    "msg_train, msg_test, label_train, label_test = train_test_split(df['text'], df['label'], test_size=0.2, shuffle = False)\n",
    "\n",
    "#printing the length of the split data\n",
    "print (len(msg_train), len(msg_test), len(msg_train) + len(msg_test))"
   ]
  },
  {
   "cell_type": "code",
   "execution_count": 29,
   "id": "9aaa830c",
   "metadata": {},
   "outputs": [
    {
     "name": "stdout",
     "output_type": "stream",
     "text": [
      "CPU times: user 2min 38s, sys: 1.03 s, total: 2min 39s\n",
      "Wall time: 2min 40s\n",
      "Confusion Matrix : \n",
      "\n",
      "[[2052    0]\n",
      " [ 751 1238]]\n",
      "              precision    recall  f1-score   support\n",
      "\n",
      "           0       0.73      1.00      0.85      2052\n",
      "           1       1.00      0.62      0.77      1989\n",
      "\n",
      "    accuracy                           0.81      4041\n",
      "   macro avg       0.87      0.81      0.81      4041\n",
      "weighted avg       0.86      0.81      0.81      4041\n",
      "\n",
      "0.8141549121504578\n"
     ]
    }
   ],
   "source": [
    "#Predicting the test labels by fitting the train labels in the Naive Bayes model\n",
    "%time naive_bayes_2 = pipeline.fit(msg_train, label_train)\n",
    "print('Confusion Matrix : \\n')\n",
    "predictions = naive_bayes_2.predict(msg_test)\n",
    "\n",
    "#printing the confusion matrix, classification report, and test accuracy\n",
    "print(confusion_matrix(label_test, predictions))\n",
    "print(classification_report(label_test, predictions))\n",
    "print(accuracy_score(label_test, predictions))"
   ]
  },
  {
   "cell_type": "markdown",
   "id": "d39bab51",
   "metadata": {},
   "source": [
    "We obtain a test data accuracy fo 81.41%, which is better than the one we received with just the text as predictor. Therefore, we can use this data for further modeling purposes.\n",
    "\n",
    "Now that we have decided on which variables to use for modeling, we will perform a 5-fold cross validation to check for overfitting."
   ]
  },
  {
   "cell_type": "markdown",
   "id": "ff40cbe0",
   "metadata": {},
   "source": [
    "#### Tinkering with model 3: Performing 5-fold cross validation to check for overfitting of the model."
   ]
  },
  {
   "cell_type": "code",
   "execution_count": 30,
   "id": "a9303a9c",
   "metadata": {},
   "outputs": [
    {
     "name": "stdout",
     "output_type": "stream",
     "text": [
      "CPU times: user 263 ms, sys: 777 ms, total: 1.04 s\n",
      "Wall time: 4min 30s\n",
      "[0.80111352 0.79987628 0.81899752 0.81373762 0.81064356]\n",
      "0.8088737011266854 0.007354673134570766\n"
     ]
    }
   ],
   "source": [
    "#performing 5-fold cross valdiation to check for overfitting\n",
    "%time scores = cross_val_score(pipeline, msg_train, label_train, cv=5, scoring='accuracy', n_jobs=-1)\n",
    "print(scores)\n",
    "print(scores.mean(), scores.std())"
   ]
  },
  {
   "cell_type": "markdown",
   "id": "e9196b46",
   "metadata": {},
   "source": [
    "We observe that the cross validation accuracy is very close to the test accuracy obtained in the previous models. Therefore, we can say that the model predicts the labels with an accuracy of 80.8%.\n",
    "\n",
    "Another model which can be used for text analytics is a Support Vector Machine. Let's use SVM to predict if a news article is reliable or unreliable and check its accuracy."
   ]
  },
  {
   "cell_type": "markdown",
   "id": "4f0fc57c",
   "metadata": {},
   "source": [
    "## Modeling - Support Vector Machine"
   ]
  },
  {
   "cell_type": "code",
   "execution_count": 31,
   "id": "208d4183",
   "metadata": {},
   "outputs": [
    {
     "name": "stdout",
     "output_type": "stream",
     "text": [
      "CPU times: user 193 ms, sys: 730 ms, total: 923 ms\n",
      "Wall time: 11min 19s\n",
      "[0.97494587 0.97309001 0.97493812 0.9740099  0.97586634]\n",
      "0.9745700472846541 0.0009446017509894647\n"
     ]
    }
   ],
   "source": [
    "#constructing a pipeline to \n",
    "#1. split the words and perform lemmatization\n",
    "#2. perform tfidf transformation\n",
    "#3. Run a Support Vector model\n",
    "pipeline = Pipeline([\n",
    "    ('bow', CountVectorizer(analyzer=split_into_lemmas)),  # strings to token integer counts\n",
    "    ('tfidf', TfidfTransformer()),  # integer counts to weighted TF-IDF scores\n",
    "    ('classifier', SVC()),  # train on TF-IDF vectors w/ Naive Bayes classifier\n",
    "])\n",
    "\n",
    "#performing 5-fold cross valdiation to check for overfitting\n",
    "%time scores = cross_val_score(pipeline, msg_train, label_train, cv=5, scoring='accuracy', n_jobs=-1)\n",
    "print(scores)\n",
    "print (scores.mean(), scores.std())"
   ]
  },
  {
   "cell_type": "markdown",
   "id": "3041480b",
   "metadata": {},
   "source": [
    "With the SVM model, we see a huge difference in the accuracy as compared to the one obtained with the Naive Bayes model. Hence, we will choose the SVM model for the predictions."
   ]
  },
  {
   "cell_type": "markdown",
   "id": "a38fc8b9",
   "metadata": {},
   "source": [
    "## Selecting Model with best accuracy - SVM"
   ]
  },
  {
   "cell_type": "code",
   "execution_count": 32,
   "id": "e151d6fa",
   "metadata": {},
   "outputs": [
    {
     "name": "stdout",
     "output_type": "stream",
     "text": [
      "CPU times: user 10min 24s, sys: 3.04 s, total: 10min 27s\n",
      "Wall time: 17min 46s\n",
      "Confusion Matrix : \n",
      "\n",
      "[[2023   29]\n",
      " [  48 1941]]\n",
      "              precision    recall  f1-score   support\n",
      "\n",
      "           0       0.98      0.99      0.98      2052\n",
      "           1       0.99      0.98      0.98      1989\n",
      "\n",
      "    accuracy                           0.98      4041\n",
      "   macro avg       0.98      0.98      0.98      4041\n",
      "weighted avg       0.98      0.98      0.98      4041\n",
      "\n",
      "0.9809453105666914\n"
     ]
    }
   ],
   "source": [
    "#Predicting the test labels by fitting the train labels in the SVM model\n",
    "%time svm_detector = pipeline.fit(msg_train, label_train)\n",
    "print('Confusion Matrix : \\n')\n",
    "predictions = svm_detector.predict(msg_test)\n",
    "\n",
    "#printing the confusion matrix, classification report, and test accuracy\n",
    "print(confusion_matrix(label_test, predictions))\n",
    "print(classification_report(label_test, predictions))\n",
    "print(accuracy_score(label_test, predictions))"
   ]
  },
  {
   "cell_type": "code",
   "execution_count": 33,
   "id": "eaa4fc82",
   "metadata": {},
   "outputs": [
    {
     "data": {
      "text/plain": [
       "Text(0.5, 0, 'Predicted label')"
      ]
     },
     "execution_count": 33,
     "metadata": {},
     "output_type": "execute_result"
    },
    {
     "data": {
      "image/png": "[encoded data removed]",
      "text/plain": [
       "<Figure size 288x288 with 2 Axes>"
      ]
     },
     "metadata": {
      "needs_background": "light"
     },
     "output_type": "display_data"
    }
   ],
   "source": [
    "#plotting the confusion matrix\n",
    "plt.matshow(confusion_matrix(label_test, predictions), cmap=plt.cm.binary, interpolation='nearest')\n",
    "plt.title('Confusion matrix')\n",
    "plt.colorbar()\n",
    "plt.ylabel('Expected label')\n",
    "plt.xlabel('Predicted label')"
   ]
  },
  {
   "cell_type": "markdown",
   "id": "d27dc58c",
   "metadata": {},
   "source": [
    "Now that we likely have an accurate model, we can fit the entire training dataset in it to further increase its accuracy."
   ]
  },
  {
   "cell_type": "markdown",
   "id": "52954f4e",
   "metadata": {},
   "source": [
    "## Final Model for Test Prediction"
   ]
  },
  {
   "cell_type": "code",
   "execution_count": 34,
   "id": "a4eca604",
   "metadata": {},
   "outputs": [
    {
     "name": "stdout",
     "output_type": "stream",
     "text": [
      "CPU times: user 15min 40s, sys: 5.39 s, total: 15min 45s\n",
      "Wall time: 15min 47s\n"
     ]
    }
   ],
   "source": [
    "#fitting the entire training data into the model\n",
    "%time svm_detector_final = pipeline.fit(df['text'], df['label'])"
   ]
  },
  {
   "cell_type": "markdown",
   "id": "f5b6e202",
   "metadata": {},
   "source": [
    "## Productionizing the Code"
   ]
  },
  {
   "cell_type": "markdown",
   "id": "f48780e8",
   "metadata": {},
   "source": [
    "Storing the pickled file so that the model can be loaded onto other machines and used whenever required."
   ]
  },
  {
   "cell_type": "code",
   "execution_count": 35,
   "id": "9cd53ff4",
   "metadata": {},
   "outputs": [],
   "source": [
    "# store the news reliability detector to disk after training\n",
    "with open('news_reliability_detector.pkl', 'wb') as fout:\n",
    "    cPickle.dump(svm_detector_final, fout)"
   ]
  },
  {
   "cell_type": "markdown",
   "id": "46182299",
   "metadata": {},
   "source": [
    "## Test Data Predictions"
   ]
  },
  {
   "cell_type": "markdown",
   "id": "dc1a6c87",
   "metadata": {},
   "source": [
    "Now that the modeling is done, we will predict the test data accuracies and then submit the generated \"submit.csv\" file in order to check how well our model performs on unknown and unlabelled data."
   ]
  },
  {
   "cell_type": "code",
   "execution_count": 36,
   "id": "4220bdc5",
   "metadata": {},
   "outputs": [],
   "source": [
    "#importing test.csv\n",
    "test = pd.read_csv('test.csv')"
   ]
  },
  {
   "cell_type": "code",
   "execution_count": 37,
   "id": "8c43d867",
   "metadata": {},
   "outputs": [],
   "source": [
    "#cleaning data\n",
    "test.loc[test['text'].isna(), 'text'] = 'text not available'"
   ]
  },
  {
   "cell_type": "code",
   "execution_count": 38,
   "id": "66029a0d",
   "metadata": {},
   "outputs": [],
   "source": [
    "#predicting labels for test data\n",
    "test_predictions = svm_detector_final.predict(test['text'])\n",
    "test['label'] = test_predictions"
   ]
  },
  {
   "cell_type": "code",
   "execution_count": 39,
   "id": "a25d1655",
   "metadata": {},
   "outputs": [],
   "source": [
    "#exporting the submit.csv file for submission\n",
    "test[['id', 'label']].set_index('id').to_csv('submit.csv')"
   ]
  },
  {
   "attachments": {
    "Screen%20Shot%202022-03-06%20at%201.52.22%20PM.png": {
     "image/png": "[encoded data removed]"
    }
   },
   "cell_type": "markdown",
   "id": "51c444b7",
   "metadata": {},
   "source": [
    "Upon submitting the test data predictions on Kaggle, we observed an accuracy of **97.994%**. This means that our model is generalizable on unseen data and predicts if a news article is reliable or unreliable with a high accuracy. Here's a snippet of the Kaggle submission:\n",
    "\n",
    "![Screen%20Shot%202022-03-06%20at%201.52.22%20PM.png](attachment:Screen%20Shot%202022-03-06%20at%201.52.22%20PM.png)"
   ]
  },
  {
   "cell_type": "markdown",
   "id": "b0d2c62c",
   "metadata": {},
   "source": [
    "## Some Questions to Answer"
   ]
  },
  {
   "cell_type": "markdown",
   "id": "97f523cc",
   "metadata": {},
   "source": [
    "#### Describe the dataset you chose. Why did you choose it? What features does it include? What year is it from? How was it collected? What should we know about this dataset as we read your writeup?\n",
    "\n",
    "I have chosen the \"Fake News\" dataset which contains data of 20,800 news articles and labels - either 0 or 1 where 0 denotes reliable news and 1 denotes unreliable news. The dataset used for training is present in train.csv while the one used for testing (which is unlabelled) is test.csv.\n",
    "\n",
    "2 years ago, a picture of my family member was taken from her social media account and used by a company to advertise their product, all without her consent. Through the investigation of this matter, I realized two critical things – first, that there is a severe lack of privacy and ethics in the social media domain and second, how misinformation and disinformation heavily restrict consumers from getting to reliable information, based on which they form an opinion. Although this incident piqued my interest because it happened to someone I know closely, it made me think deeply about the scale and impact of such incidents on hindering the advocation of social justice efforts. That is why, I chose this dataset to help curb the spread of misinformation and disinformation.\n",
    "\n",
    "Following are the features that it includes:\n",
    "1. id: unique id for a news article\n",
    "2. title: the title of a news article\n",
    "3. author: author of the news article\n",
    "4. text: the text of the article; could be incomplete\n",
    "5. label: a label that marks the article as potentially unreliable\n",
    "        1: unreliable\n",
    "        0: reliable\n",
    "\n",
    "Source: [Fake News](https://www.kaggle.com/c/fake-news/data)\n",
    "\n",
    "The dataset is from the year: **2014**\n",
    "\n",
    "From the discussions posted in the Kaggle webpage of the dataset, it appears to have been collected from:\n",
    "1. Web-Scraping news articles\n",
    "2. Combining existing data on fake news\n",
    "\n",
    "One important thing to note is that the dataset is huge. It contains 20,800 rows of news articles. This means that it has a large amount of content in each row. Therefore, the computations are taking longer than they should in case of an ideal model."
   ]
  },
  {
   "cell_type": "markdown",
   "id": "6ca9aa4b",
   "metadata": {},
   "source": [
    "#### Define a research question. What are you trying to predict? Describe what you're trying to accomplish (it will differ between Supervised and Unsupervised learning).\n",
    "\n",
    "Following is my research question:\n",
    "\n",
    "**\"Can we accurately predict if a news article is reliable or unreliable based on its text content?\"**\n",
    "\n",
    "I'm trying to predict if a set of news articles (test.csv data) are reliable or unreliable. The aim of this is to understand the model performance and see how well the model works on unseen and unlabelled data so that it can be productionized.\n",
    "\n",
    "Through my efforts, I hope to accomplish a dip in the spread of misinformation so that important information like social justice issues reaches the public. In future, I want to build a system which informs the user on how reliable a news article is. This could be an essential asset in preventing the spread of misinformation."
   ]
  },
  {
   "cell_type": "markdown",
   "id": "44b7e87b",
   "metadata": {},
   "source": [
    "#### Why is this algorithm a good way of answering your research question?\n",
    "\n",
    "The algorithms I have chosen are Naive Bayes and Support Vector Machines. Both the algorithms are a good ways of answering my research questions for the following reasons:\n",
    "\n",
    "1. With Naive Bayes, I get an accuracy of ~80%\n",
    "2. With SVM, I get an accuracy of ~98%\n",
    "3. Both models work well on high-dimensional data without being prone to overfitting\n",
    "4. The research question aims to classify the data into one of the two groups and my algorithm helps in doing that."
   ]
  },
  {
   "cell_type": "markdown",
   "id": "465670d8",
   "metadata": {},
   "source": [
    "#### Using the data you chose and the algorithm you chose, read in your data and run your model.\n",
    "\n",
    "I have performed this action in the steps covered above. Please take a look at the notebook."
   ]
  },
  {
   "cell_type": "markdown",
   "id": "e739e343",
   "metadata": {},
   "source": [
    "#### Tinker with parameters at least 3 times (changing learning rate, changing features, changing k like in KNN, etc). You may tinker with the same kind of parameter 3 times, it doesn't have to be 3 different parameters. (example: you can just tinker with k. k=1, k=3, or k=8) Or you might want to tinker with features and also your k value or whatever is appropriate for your algorithm.\n",
    "\n",
    "I have performed this action in the steps covered above. Please take a look at the notebook."
   ]
  },
  {
   "cell_type": "markdown",
   "id": "fe807448",
   "metadata": {},
   "source": [
    "#### Report the accuracy of your model. Either through RMSE or another metric. How did accuracy change with your parameter tinkering?\n",
    "\n",
    "Tinkering 1: Using df[\"text\"] as the predictor variable\n",
    "\n",
    "Model accuracy = 79.6%\n",
    "\n",
    "Tinkering 2: Using df[\"text\"] and df[\"author\"] as the predictor variables\n",
    "\n",
    "Model accuracy = 81.41%\n",
    "\n",
    "Tinkering 3: Performing 5-fold cross validation to check for overfitting of the model\n",
    "\n",
    "Average Model accuracy = 80.8%\n",
    "\n",
    "The accuracy increased by adding the \"author\" variable to the predictor variable. However, in order to be sure that this wasn't the result of overfitting, I performed 5-fold cross valdiation and received an accuracy of 80.8%."
   ]
  },
  {
   "cell_type": "markdown",
   "id": "ca31e1b0",
   "metadata": {},
   "source": [
    "#### Create a visualization demonstrating your findings. Make sure to include a title and axis labels. Describe what's being shown in your visualization.\n",
    "\n",
    "While the visualizations of the top 10 unigrams and top 10 bigrams of training data are completed above, I will now visualize the same for test data and display the distributions of the predictions. Moreover, the confusion matrix of the results of the SVM model predictions is visualized above."
   ]
  },
  {
   "cell_type": "code",
   "execution_count": 40,
   "id": "c49c1cf3",
   "metadata": {},
   "outputs": [],
   "source": [
    "#top unigrams\n",
    "top_unigrams = top_ngrams(test, 1)\n",
    "\n",
    "#top bigrams\n",
    "top_bigrams = top_ngrams(test, 2)"
   ]
  },
  {
   "cell_type": "code",
   "execution_count": 41,
   "id": "6793e7c7",
   "metadata": {},
   "outputs": [
    {
     "data": {
      "text/plain": [
       "Text(0, 0.5, 'Number of occurences')"
      ]
     },
     "execution_count": 41,
     "metadata": {},
     "output_type": "execute_result"
    },
    {
     "data": {
      "image/png": "[encoded data removed]",
      "text/plain": [
       "<Figure size 432x288 with 1 Axes>"
      ]
     },
     "metadata": {
      "needs_background": "light"
     },
     "output_type": "display_data"
    }
   ],
   "source": [
    "#displaying the top 10 unigrams\n",
    "pd.DataFrame(top_unigrams, columns = [\"unigrams\"]).value_counts(sort = True).nlargest(10).plot(kind = 'bar')\n",
    "plt.title(\"Top 10 Unigrams\")\n",
    "plt.xlabel(\"Unigrams\")\n",
    "plt.ylabel(\"Number of occurences\")"
   ]
  },
  {
   "cell_type": "code",
   "execution_count": 42,
   "id": "027ddb37",
   "metadata": {},
   "outputs": [
    {
     "data": {
      "text/plain": [
       "Text(0, 0.5, 'Number of occurences')"
      ]
     },
     "execution_count": 42,
     "metadata": {},
     "output_type": "execute_result"
    },
    {
     "data": {
      "image/png": "[encoded data removed]",
      "text/plain": [
       "<Figure size 432x288 with 1 Axes>"
      ]
     },
     "metadata": {
      "needs_background": "light"
     },
     "output_type": "display_data"
    }
   ],
   "source": [
    "#displaying the top 10 bigrams\n",
    "pd.DataFrame(top_bigrams, columns = [\"bigrams_1\", \"bigrams_2\"]).value_counts(sort = True).nlargest(10).plot(kind = 'bar')\n",
    "plt.title(\"Top 10 Bigrams\")\n",
    "plt.xlabel(\"Bigrams\")\n",
    "plt.ylabel(\"Number of occurences\")"
   ]
  },
  {
   "cell_type": "code",
   "execution_count": 43,
   "id": "659ea724",
   "metadata": {},
   "outputs": [
    {
     "data": {
      "text/plain": [
       "Text(0, 0.5, 'Frequency (%)')"
      ]
     },
     "execution_count": 43,
     "metadata": {},
     "output_type": "execute_result"
    },
    {
     "data": {
      "image/png": "[encoded data removed]",
      "text/plain": [
       "<Figure size 432x288 with 1 Axes>"
      ]
     },
     "metadata": {
      "needs_background": "light"
     },
     "output_type": "display_data"
    }
   ],
   "source": [
    "#Predictions label distribution\n",
    "(test['label'].value_counts(normalize = True)*100).plot(kind = 'bar')\n",
    "plt.title(\"Ditribution of Predicted Labels\")\n",
    "plt.xlabel(\"Label\")\n",
    "plt.ylabel(\"Frequency (%)\")"
   ]
  },
  {
   "cell_type": "markdown",
   "id": "a449905f",
   "metadata": {},
   "source": [
    "From the visualizations above, we observe the top bigrams and unigrams of the unreliable news articles in the test data. This could mean that:\n",
    "1. News articles are collected from within the United States which means that the model might fail to identify reliability of news articles of other countries\n",
    "2. Most of the misinformation is being reported in the area of politics"
   ]
  },
  {
   "cell_type": "markdown",
   "id": "6f5c95f9",
   "metadata": {},
   "source": [
    "#### What challenges did you run into? Do you think it was because of the data, the model, the research question? How would you overcome these challenges?\n",
    "\n",
    "The biggest challenge that I ran into was the **high execution time** of the model pipeline. I believe that it was because of the data and the research question because the models that I've chosen have a high computation rate. \n",
    "\n",
    "Since there are approximately 16,000+ news article texts to be tokenized, lemmatized, and tf-idf processed, it takes long processing times for the text mining. Moreover, performing Multinomial Naive Bayes and SVM training on the resulting high-dimensional data would lead to higher execution times.\n",
    "\n",
    "To overcome these challenges, I could have performed the text mining process once for the entire data without fitting it into a pipeline. Through this, the transformed data would be used for model training without having to be processed every time the pipeline was executed. In addition, I could reduce the length of the data but that would mean compromising on the model performance. However, if I perform the training on a small subset of the data and decide which model to choose, I can train it again with the same parameters on the entire dataset. I believe that implementing these two approaches would reduce the high execution time of the model training."
   ]
  },
  {
   "cell_type": "markdown",
   "id": "af020719",
   "metadata": {},
   "source": [
    "#### We learned a little bit about how our models can affect real people in the world. Name 2 potential benefits of your model and 2 potential harms. You can even look at the Wikipedia page on Algorithmic Bias (Links to an external site.) for inspiration. Every model has consequences, what can you think of? If your data is really not amenable to this question, simply write about any other example we covered in class, such as the Boston housing dataset or hate speech detectors.\n",
    "\n",
    "Two potential benefits of the model:\n",
    "1. On deployment of the model to a web-application, a user can input the url of the news application and check if the news is reliable or unreliable. This would help users in identifying misinformation and disinformation in news\n",
    "2. The model would be useful in blocking potentially harmful websites which collect data of naive users through tricks. This would help in not only curbing misinformation spread but also preventing future information security issues.\n",
    "\n",
    "Two potential harms of the model:\n",
    "1. Although the model is trained on 20,000+ news articles data, it isn't certain if the articles are taken only from one geographical location like the United States. If so, then anybody using the model from another country might get the wrong output from the model and miss important information thinking that its unreliable.\n",
    "2. The model wouldn't always predict every outcome correctly. This could be potentially harmful to the business of small-scale news companies if their articles are wrongly tagged as unreliable."
   ]
  },
  {
   "cell_type": "markdown",
   "id": "145b60f6",
   "metadata": {},
   "source": [
    "#### Name one research question you might ask next for future work (don't worry, you don't have to do it!) Why is it important?\n",
    "\n",
    "For the future, I would ask the following research question:\n",
    "\n",
    "**What are the ethical implications of the model?**\n",
    "\n",
    "Although the model is being developed for social welfare and should be used for that purpose only, does it inadvertantly cause any social or ethical issues? Can we quantify its ethical implications, analyze the data, and find out to what extent the model's results can be justified ethically?\n",
    "\n",
    "This is an important research question because I believe that solving one problem should not give rise to more problems."
   ]
  }
 ],
 "metadata": {
  "kernelspec": {
   "display_name": "Python 3",
   "language": "python",
   "name": "python3"
  },
  "language_info": {
   "codemirror_mode": {
    "name": "ipython",
    "version": 3
   },
   "file_extension": ".py",
   "mimetype": "text/x-python",
   "name": "python",
   "nbconvert_exporter": "python",
   "pygments_lexer": "ipython3",
   "version": "3.8.8"
  }
 },
 "nbformat": 4,
 "nbformat_minor": 5
}
